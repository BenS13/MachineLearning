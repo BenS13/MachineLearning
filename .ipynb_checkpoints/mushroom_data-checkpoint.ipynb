{
 "cells": [
  {
   "cell_type": "code",
   "execution_count": 53,
   "id": "825e2604",
   "metadata": {},
   "outputs": [],
   "source": [
    "import pandas as pd\n",
    "import numpy as np\n",
    "import time\n",
    "from sklearn import metrics, neighbors\n",
    "from sklearn.model_selection import train_test_split\n",
    "from sklearn.metrics import classification_report\n",
    "\n",
    "from sklearn.preprocessing import LabelEncoder, StandardScaler\n",
    "\n",
    "from sklearn.neighbors import KNeighborsClassifier\n",
    "\n",
    "from sklearn.linear_model import LogisticRegression\n",
    "\n",
    "import matplotlib.pyplot as plt\n"
   ]
  },
  {
   "cell_type": "code",
   "execution_count": 2,
   "id": "94d5dd7d",
   "metadata": {},
   "outputs": [
    {
     "data": {
      "text/plain": [
       "'DATA SOURCE\\nhttps://www.kaggle.com/datasets/devzohaib/mushroom-edibility-classification\\n'"
      ]
     },
     "execution_count": 2,
     "metadata": {},
     "output_type": "execute_result"
    }
   ],
   "source": [
    "'''DATA SOURCE\n",
    "https://www.kaggle.com/datasets/devzohaib/mushroom-edibility-classification\n",
    "'''"
   ]
  },
  {
   "cell_type": "code",
   "execution_count": 3,
   "id": "a21a7316",
   "metadata": {},
   "outputs": [
    {
     "data": {
      "text/plain": [
       "'\\n1.One binary class divided in edible=e and poisonous=p (with the latter one also containing mushrooms of unknown edibility).\\nTwenty remaining variables (n: nominal, m: metrical)\\n\\n2.cap-diameter (m): float number in cm\\n3.cap-shape (n): bell=b, conical=c, convex=x, flat=f,\\n4.sunken=s, spherical=p, others=o\\n5.cap-surface (n): fibrous=i, grooves=g, scaly=y, smooth=s,\\n6.shiny=h, leathery=l, silky=k, sticky=t,\\n7.wrinkled=w, fleshy=e\\n8.cap-color (n): brown=n, buff=b, gray=g, green=r, pink=p,\\n9.purple=u, red=e, white=w, yellow=y, blue=l,\\n10.orange=o, black=k\\n11.does-bruise-bleed (n): bruises-or-bleeding=t,no=f\\n12.gill-attachment (n): adnate=a, adnexed=x, decurrent=d, free=e,\\n13.sinuate=s, pores=p, none=f, unknown=?\\n14.gill-spacing (n): close=c, distant=d, none=f\\n15.gill-color (n): see cap-color + none=f\\n16.stem-height (m): float number in cm\\n'"
      ]
     },
     "execution_count": 3,
     "metadata": {},
     "output_type": "execute_result"
    }
   ],
   "source": [
    "'''\n",
    "1.One binary class divided in edible=e and poisonous=p (with the latter one also containing mushrooms of unknown edibility).\n",
    "Twenty remaining variables (n: nominal, m: metrical)\n",
    "\n",
    "2.cap-diameter (m): float number in cm\n",
    "3.cap-shape (n): bell=b, conical=c, convex=x, flat=f,\n",
    "4.sunken=s, spherical=p, others=o\n",
    "5.cap-surface (n): fibrous=i, grooves=g, scaly=y, smooth=s,\n",
    "6.shiny=h, leathery=l, silky=k, sticky=t,\n",
    "7.wrinkled=w, fleshy=e\n",
    "8.cap-color (n): brown=n, buff=b, gray=g, green=r, pink=p,\n",
    "9.purple=u, red=e, white=w, yellow=y, blue=l,\n",
    "10.orange=o, black=k\n",
    "11.does-bruise-bleed (n): bruises-or-bleeding=t,no=f\n",
    "12.gill-attachment (n): adnate=a, adnexed=x, decurrent=d, free=e,\n",
    "13.sinuate=s, pores=p, none=f, unknown=?\n",
    "14.gill-spacing (n): close=c, distant=d, none=f\n",
    "15.gill-color (n): see cap-color + none=f\n",
    "16.stem-height (m): float number in cm\n",
    "'''"
   ]
  },
  {
   "cell_type": "code",
   "execution_count": 4,
   "id": "00327e26",
   "metadata": {},
   "outputs": [
    {
     "name": "stdout",
     "output_type": "stream",
     "text": [
      "      class  cap-diameter cap-shape cap-surface cap-color  \\\n",
      "0         p         15.26         x           g         o   \n",
      "1         p         16.60         x           g         o   \n",
      "2         p         14.07         x           g         o   \n",
      "3         p         14.17         f           h         e   \n",
      "4         p         14.64         x           h         o   \n",
      "...     ...           ...       ...         ...       ...   \n",
      "61064     p          1.18         s           s         y   \n",
      "61065     p          1.27         f           s         y   \n",
      "61066     p          1.27         s           s         y   \n",
      "61067     p          1.24         f           s         y   \n",
      "61068     p          1.17         s           s         y   \n",
      "\n",
      "      does-bruise-or-bleed gill-attachment gill-spacing gill-color  \\\n",
      "0                        f               e          NaN          w   \n",
      "1                        f               e          NaN          w   \n",
      "2                        f               e          NaN          w   \n",
      "3                        f               e          NaN          w   \n",
      "4                        f               e          NaN          w   \n",
      "...                    ...             ...          ...        ...   \n",
      "61064                    f               f            f          f   \n",
      "61065                    f               f            f          f   \n",
      "61066                    f               f            f          f   \n",
      "61067                    f               f            f          f   \n",
      "61068                    f               f            f          f   \n",
      "\n",
      "       stem-height  ...  stem-root stem-surface stem-color veil-type  \\\n",
      "0            16.95  ...          s            y          w         u   \n",
      "1            17.99  ...          s            y          w         u   \n",
      "2            17.80  ...          s            y          w         u   \n",
      "3            15.77  ...          s            y          w         u   \n",
      "4            16.53  ...          s            y          w         u   \n",
      "...            ...  ...        ...          ...        ...       ...   \n",
      "61064         3.93  ...        NaN          NaN          y       NaN   \n",
      "61065         3.18  ...        NaN          NaN          y       NaN   \n",
      "61066         3.86  ...        NaN          NaN          y       NaN   \n",
      "61067         3.56  ...        NaN          NaN          y       NaN   \n",
      "61068         3.25  ...        NaN          NaN          y       NaN   \n",
      "\n",
      "      veil-color has-ring ring-type spore-print-color habitat season  \n",
      "0              w        t         g               NaN       d      w  \n",
      "1              w        t         g               NaN       d      u  \n",
      "2              w        t         g               NaN       d      w  \n",
      "3              w        t         p               NaN       d      w  \n",
      "4              w        t         p               NaN       d      w  \n",
      "...          ...      ...       ...               ...     ...    ...  \n",
      "61064        NaN        f         f               NaN       d      a  \n",
      "61065        NaN        f         f               NaN       d      a  \n",
      "61066        NaN        f         f               NaN       d      u  \n",
      "61067        NaN        f         f               NaN       d      u  \n",
      "61068        NaN        f         f               NaN       d      u  \n",
      "\n",
      "[61069 rows x 21 columns]\n"
     ]
    }
   ],
   "source": [
    "data = pd.read_csv('secondary_data.csv',delimiter=';')\n",
    "print(data)"
   ]
  },
  {
   "cell_type": "code",
   "execution_count": 6,
   "id": "e5341ad8",
   "metadata": {},
   "outputs": [
    {
     "name": "stdout",
     "output_type": "stream",
     "text": [
      "class                       0\n",
      "cap-diameter                0\n",
      "cap-shape                   0\n",
      "cap-surface             14120\n",
      "cap-color                   0\n",
      "does-bruise-or-bleed        0\n",
      "gill-attachment          9884\n",
      "gill-spacing            25063\n",
      "gill-color                  0\n",
      "stem-height                 0\n",
      "stem-width                  0\n",
      "stem-root               51538\n",
      "stem-surface            38124\n",
      "stem-color                  0\n",
      "veil-type               57892\n",
      "veil-color              53656\n",
      "has-ring                    0\n",
      "ring-type                2471\n",
      "spore-print-color       54715\n",
      "habitat                     0\n",
      "season                      0\n",
      "dtype: int64\n"
     ]
    }
   ],
   "source": [
    "'''Check for null values'''\n",
    "print(data.isnull().sum())"
   ]
  },
  {
   "cell_type": "code",
   "execution_count": 7,
   "id": "201bdcd4",
   "metadata": {},
   "outputs": [
    {
     "name": "stdout",
     "output_type": "stream",
     "text": [
      "class                       0\n",
      "cap-diameter                0\n",
      "cap-shape                   0\n",
      "cap-surface             14120\n",
      "cap-color                   0\n",
      "does-bruise-or-bleed        0\n",
      "gill-attachment          9884\n",
      "gill-color                  0\n",
      "stem-height                 0\n",
      "stem-width                  0\n",
      "stem-color                  0\n",
      "has-ring                    0\n",
      "ring-type                2471\n",
      "habitat                     0\n",
      "season                      0\n",
      "dtype: int64\n"
     ]
    }
   ],
   "source": [
    "'''Some columns are completley NaN values so ,Removing colums where amount of NULL is near amount of samples'''\n",
    "data = data.drop('spore-print-color', axis=1)\n",
    "data = data.drop('veil-color', axis=1)\n",
    "data = data.drop('veil-type', axis=1)\n",
    "data = data.drop('stem-surface', axis=1)\n",
    "data = data.drop('stem-root', axis=1)\n",
    "data = data.drop('gill-spacing', axis=1)\n",
    "print(data.isnull().sum())"
   ]
  },
  {
   "cell_type": "code",
   "execution_count": 8,
   "id": "052be6d6",
   "metadata": {},
   "outputs": [
    {
     "name": "stdout",
     "output_type": "stream",
     "text": [
      "class                   0\n",
      "cap-diameter            0\n",
      "cap-shape               0\n",
      "cap-surface             0\n",
      "cap-color               0\n",
      "does-bruise-or-bleed    0\n",
      "gill-attachment         0\n",
      "gill-color              0\n",
      "stem-height             0\n",
      "stem-width              0\n",
      "stem-color              0\n",
      "has-ring                0\n",
      "ring-type               0\n",
      "habitat                 0\n",
      "season                  0\n",
      "dtype: int64\n",
      "      class  cap-diameter cap-shape cap-surface cap-color  \\\n",
      "0         p         15.26         x           g         o   \n",
      "1         p         16.60         x           g         o   \n",
      "2         p         14.07         x           g         o   \n",
      "3         p         14.17         f           h         e   \n",
      "4         p         14.64         x           h         o   \n",
      "...     ...           ...       ...         ...       ...   \n",
      "61064     p          1.18         s           s         y   \n",
      "61065     p          1.27         f           s         y   \n",
      "61066     p          1.27         s           s         y   \n",
      "61067     p          1.24         f           s         y   \n",
      "61068     p          1.17         s           s         y   \n",
      "\n",
      "      does-bruise-or-bleed gill-attachment gill-color  stem-height  \\\n",
      "0                        f               e          w        16.95   \n",
      "1                        f               e          w        17.99   \n",
      "2                        f               e          w        17.80   \n",
      "3                        f               e          w        15.77   \n",
      "4                        f               e          w        16.53   \n",
      "...                    ...             ...        ...          ...   \n",
      "61064                    f               f          f         3.93   \n",
      "61065                    f               f          f         3.18   \n",
      "61066                    f               f          f         3.86   \n",
      "61067                    f               f          f         3.56   \n",
      "61068                    f               f          f         3.25   \n",
      "\n",
      "       stem-width stem-color has-ring ring-type habitat season  \n",
      "0           17.09          w        t         g       d      w  \n",
      "1           18.19          w        t         g       d      u  \n",
      "2           17.74          w        t         g       d      w  \n",
      "3           15.98          w        t         p       d      w  \n",
      "4           17.20          w        t         p       d      w  \n",
      "...           ...        ...      ...       ...     ...    ...  \n",
      "61064        6.22          y        f         f       d      a  \n",
      "61065        5.43          y        f         f       d      a  \n",
      "61066        6.37          y        f         f       d      u  \n",
      "61067        5.44          y        f         f       d      u  \n",
      "61068        5.45          y        f         f       d      u  \n",
      "\n",
      "[37065 rows x 15 columns]\n"
     ]
    }
   ],
   "source": [
    "'''Now we want to drop any rows that have NULL values'''\n",
    "data = data.dropna(how='any',axis=0)\n",
    "print(data.isnull().sum())\n",
    "print(data)"
   ]
  },
  {
   "cell_type": "code",
   "execution_count": 10,
   "id": "8b0b729a",
   "metadata": {},
   "outputs": [
    {
     "name": "stdout",
     "output_type": "stream",
     "text": [
      "<class 'pandas.core.frame.DataFrame'>\n",
      "Int64Index: 37065 entries, 0 to 61068\n",
      "Data columns (total 15 columns):\n",
      " #   Column                Non-Null Count  Dtype  \n",
      "---  ------                --------------  -----  \n",
      " 0   class                 37065 non-null  object \n",
      " 1   cap-diameter          37065 non-null  float64\n",
      " 2   cap-shape             37065 non-null  object \n",
      " 3   cap-surface           37065 non-null  object \n",
      " 4   cap-color             37065 non-null  object \n",
      " 5   does-bruise-or-bleed  37065 non-null  object \n",
      " 6   gill-attachment       37065 non-null  object \n",
      " 7   gill-color            37065 non-null  object \n",
      " 8   stem-height           37065 non-null  float64\n",
      " 9   stem-width            37065 non-null  float64\n",
      " 10  stem-color            37065 non-null  object \n",
      " 11  has-ring              37065 non-null  object \n",
      " 12  ring-type             37065 non-null  object \n",
      " 13  habitat               37065 non-null  object \n",
      " 14  season                37065 non-null  object \n",
      "dtypes: float64(3), object(12)\n",
      "memory usage: 4.5+ MB\n",
      "None\n"
     ]
    }
   ],
   "source": [
    "'''Display information about the dataset'''\n",
    "print(data.info())#Get the information about the dataset"
   ]
  },
  {
   "cell_type": "code",
   "execution_count": 75,
   "id": "c2e2094f",
   "metadata": {},
   "outputs": [],
   "source": [
    "#We need to re-define X with only the colums without null values\n",
    "X = data[[\n",
    "    'cap-diameter',\n",
    "    'cap-shape',\n",
    "    'cap-color',\n",
    "    'does-bruise-or-bleed',\n",
    "    'gill-color',\n",
    "    'stem-height',\n",
    "    'stem-width',\n",
    "    'stem-color',\n",
    "    'has-ring',\n",
    "    'habitat',\n",
    "    'season'\n",
    "]].values\n",
    "#print(X)\n",
    "\n",
    "#Redifine y here for clarity\n",
    "y = data [[\n",
    "    'class'\n",
    "]]\n",
    "#print(y['class'])"
   ]
  },
  {
   "cell_type": "code",
   "execution_count": 76,
   "id": "45078d0f",
   "metadata": {},
   "outputs": [
    {
     "data": {
      "image/png": "[encoded data removed]",
      "text/plain": [
       "<Figure size 432x288 with 1 Axes>"
      ]
     },
     "metadata": {
      "needs_background": "light"
     },
     "output_type": "display_data"
    }
   ],
   "source": [
    "#scatter\n",
    "count = data['class'].value_counts()\n",
    "x_axis = ['Edible','Poisonous']\n",
    "y_axis = [count['e'],count['p']]\n",
    "plt.bar(x_axis,y_axis)\n",
    "plt.show()"
   ]
  },
  {
   "cell_type": "code",
   "execution_count": 77,
   "id": "bb23f058",
   "metadata": {},
   "outputs": [
    {
     "data": {
      "image/png": "[encoded data removed]",
      "text/plain": [
       "<Figure size 1152x576 with 2 Axes>"
      ]
     },
     "metadata": {
      "needs_background": "light"
     },
     "output_type": "display_data"
    }
   ],
   "source": [
    "import seaborn as sns\n",
    "correlation = data.corr(method='pearson')\n",
    "plt.figure(figsize=(16,8))\n",
    "cmap = sns.diverging_palette(230, 20, as_cmap=True)\n",
    "sns.heatmap(correlation, linecolor='yellow',cmap=cmap,linewidths=0.25, annot=True)\n",
    "plt.title('Heatmap Correlation', size=20, color='red')\n",
    "plt.show()   "
   ]
  },
  {
   "cell_type": "code",
   "execution_count": 6,
   "id": "440e5755",
   "metadata": {},
   "outputs": [
    {
     "name": "stdout",
     "output_type": "stream",
     "text": [
      "[[1481 6 6 ... 1 0 3]\n",
      " [1614 6 6 ... 1 0 2]\n",
      " [1362 6 6 ... 1 0 3]\n",
      " ...\n",
      " [82 5 11 ... 0 0 2]\n",
      " [79 2 11 ... 0 0 2]\n",
      " [72 5 11 ... 0 0 2]] [1 1 1 ... 1 1 1]\n"
     ]
    },
    {
     "name": "stderr",
     "output_type": "stream",
     "text": [
      "C:\\Users\\Ben\\AppData\\Local\\Temp\\ipykernel_19120\\1604521415.py:14: SettingWithCopyWarning: \n",
      "A value is trying to be set on a copy of a slice from a DataFrame.\n",
      "Try using .loc[row_indexer,col_indexer] = value instead\n",
      "\n",
      "See the caveats in the documentation: https://pandas.pydata.org/pandas-docs/stable/user_guide/indexing.html#returning-a-view-versus-a-copy\n",
      "  y['class'] = y['class'].map(label_mapping)\n"
     ]
    }
   ],
   "source": [
    "'''\n",
    "Convert class e,p to numbers 0,1\n",
    "Convert all other classifcations to numbers \n",
    "'''\n",
    "Le = LabelEncoder()#Convert all data in X to numbers so it can be used\n",
    "for i in range(len(X[0])):#Iterate over all instances in X\n",
    "    X[:, i] = Le.fit_transform(X[:, i])#Transform to number using fit_transform\n",
    "\n",
    "\n",
    "label_mapping = { #Create a dict for e(edible) and p(poisonous)\n",
    "    'e':0, #Assign 'e' as 0\n",
    "    'p':1 #Assign 'p' as 1\n",
    "}\n",
    "y['class'] = y['class'].map(label_mapping)\n",
    "y = np.array(y)#Make y an array\n",
    "y=np.ravel(y)#Make y a 1D array\n",
    "\n",
    "print(X,y)#Check to make sure transormations happened"
   ]
  },
  {
   "cell_type": "code",
   "execution_count": 37,
   "id": "28532381",
   "metadata": {},
   "outputs": [],
   "source": [
    "'''\n",
    "To start lets make n_neighbours = sqrt(number of samples)\n",
    "n_neighbours = sqrt(37065) = 192.52 -> 193\n",
    "and use the default parameters for weights and algorithm.\n",
    "'''\n",
    "kNeighbors = KNeighborsClassifier(n_neighbors=25, weights='uniform', algorithm='auto')"
   ]
  },
  {
   "cell_type": "code",
   "execution_count": 38,
   "id": "c04cb6d3",
   "metadata": {},
   "outputs": [],
   "source": [
    "'''Train model with all X_values'''\n",
    "def train_model(model):#Function to train with selected model\n",
    "    #X_train, X_test, y_train, y_test = train_test_split(X, y, test_size=0.2)\n",
    "    #model = KNeighborsClassifier(n_neighbors=1)\n",
    "    model.fit(X_train, y_train)\n",
    "    prediction = model.predict(X_test)\n",
    "    return round(metrics.accuracy_score(y_test, prediction), 3), classification_report(y_test, prediction, target_names = ['edible(0)', 'poisonous(1)'])"
   ]
  },
  {
   "cell_type": "code",
   "execution_count": 39,
   "id": "49151a53",
   "metadata": {},
   "outputs": [],
   "source": [
    "X_train, X_test, y_train, y_test = train_test_split(X, y, test_size=0.25)\n",
    "\n",
    "#Start Log Regression training"
   ]
  },
  {
   "cell_type": "code",
   "execution_count": 40,
   "id": "f8154ba5",
   "metadata": {},
   "outputs": [
    {
     "name": "stdout",
     "output_type": "stream",
     "text": [
      "\u001b[1mKNN Report \u001b[0m\n",
      "Accuracy:0.965\n",
      "              precision    recall  f1-score   support\n",
      "\n",
      "   edible(0)       0.95      0.97      0.96      6782\n",
      "poisonous(1)       0.97      0.96      0.97      8486\n",
      "\n",
      "    accuracy                           0.96     15268\n",
      "   macro avg       0.96      0.96      0.96     15268\n",
      "weighted avg       0.96      0.96      0.96     15268\n",
      "\n",
      "\u001b[1m Logistic Regression Report \u001b[0m\n",
      "Accuracy:0.621\n",
      "              precision    recall  f1-score   support\n",
      "\n",
      "   edible(0)       0.60      0.44      0.51      6782\n",
      "poisonous(1)       0.63      0.77      0.69      8486\n",
      "\n",
      "    accuracy                           0.62     15268\n",
      "   macro avg       0.62      0.60      0.60     15268\n",
      "weighted avg       0.62      0.62      0.61     15268\n",
      "\n"
     ]
    }
   ],
   "source": [
    "print(\"\\033[1mKNN Report \\033[0m\")\n",
    "print(\"Accuracy:{}\\n{}\".format(kN_accuracy, kN_report))\n",
    "\n",
    "print(\"\\033[1m Logistic Regression Report \\033[0m\")\n",
    "print(\"Accuracy:{}\\n{}\".format(Log_accuracy, Log_report))"
   ]
  },
  {
   "cell_type": "code",
   "execution_count": 25,
   "id": "ae6adee1",
   "metadata": {},
   "outputs": [
    {
     "ename": "KeyboardInterrupt",
     "evalue": "",
     "output_type": "error",
     "traceback": [
      "\u001b[1;31m---------------------------------------------------------------------------\u001b[0m",
      "\u001b[1;31mKeyboardInterrupt\u001b[0m                         Traceback (most recent call last)",
      "Input \u001b[1;32mIn [25]\u001b[0m, in \u001b[0;36m<cell line: 11>\u001b[1;34m()\u001b[0m\n\u001b[0;32m     12\u001b[0m  knn \u001b[38;5;241m=\u001b[39m KNeighborsClassifier(n_neighbors\u001b[38;5;241m=\u001b[39mi)\n\u001b[0;32m     13\u001b[0m  knn\u001b[38;5;241m.\u001b[39mfit(X_train,y_train)\n\u001b[1;32m---> 14\u001b[0m  pred_i \u001b[38;5;241m=\u001b[39m \u001b[43mknn\u001b[49m\u001b[38;5;241;43m.\u001b[39;49m\u001b[43mpredict\u001b[49m\u001b[43m(\u001b[49m\u001b[43mX_test\u001b[49m\u001b[43m)\u001b[49m\n\u001b[0;32m     15\u001b[0m  error_rate\u001b[38;5;241m.\u001b[39mappend(np\u001b[38;5;241m.\u001b[39mmean(pred_i \u001b[38;5;241m!=\u001b[39m y_test))\n\u001b[0;32m     17\u001b[0m plt\u001b[38;5;241m.\u001b[39mfigure(figsize\u001b[38;5;241m=\u001b[39m(\u001b[38;5;241m10\u001b[39m,\u001b[38;5;241m6\u001b[39m))\n",
      "File \u001b[1;32mC:\\ProgramData\\Anaconda3\\lib\\site-packages\\sklearn\\neighbors\\_classification.py:214\u001b[0m, in \u001b[0;36mKNeighborsClassifier.predict\u001b[1;34m(self, X)\u001b[0m\n\u001b[0;32m    200\u001b[0m \u001b[38;5;28;01mdef\u001b[39;00m \u001b[38;5;21mpredict\u001b[39m(\u001b[38;5;28mself\u001b[39m, X):\n\u001b[0;32m    201\u001b[0m     \u001b[38;5;124;03m\"\"\"Predict the class labels for the provided data.\u001b[39;00m\n\u001b[0;32m    202\u001b[0m \n\u001b[0;32m    203\u001b[0m \u001b[38;5;124;03m    Parameters\u001b[39;00m\n\u001b[1;32m   (...)\u001b[0m\n\u001b[0;32m    212\u001b[0m \u001b[38;5;124;03m        Class labels for each data sample.\u001b[39;00m\n\u001b[0;32m    213\u001b[0m \u001b[38;5;124;03m    \"\"\"\u001b[39;00m\n\u001b[1;32m--> 214\u001b[0m     neigh_dist, neigh_ind \u001b[38;5;241m=\u001b[39m \u001b[38;5;28;43mself\u001b[39;49m\u001b[38;5;241;43m.\u001b[39;49m\u001b[43mkneighbors\u001b[49m\u001b[43m(\u001b[49m\u001b[43mX\u001b[49m\u001b[43m)\u001b[49m\n\u001b[0;32m    215\u001b[0m     classes_ \u001b[38;5;241m=\u001b[39m \u001b[38;5;28mself\u001b[39m\u001b[38;5;241m.\u001b[39mclasses_\n\u001b[0;32m    216\u001b[0m     _y \u001b[38;5;241m=\u001b[39m \u001b[38;5;28mself\u001b[39m\u001b[38;5;241m.\u001b[39m_y\n",
      "File \u001b[1;32mC:\\ProgramData\\Anaconda3\\lib\\site-packages\\sklearn\\neighbors\\_base.py:776\u001b[0m, in \u001b[0;36mKNeighborsMixin.kneighbors\u001b[1;34m(self, X, n_neighbors, return_distance)\u001b[0m\n\u001b[0;32m    774\u001b[0m     \u001b[38;5;28;01melse\u001b[39;00m:\n\u001b[0;32m    775\u001b[0m         parallel_kwargs \u001b[38;5;241m=\u001b[39m {\u001b[38;5;124m\"\u001b[39m\u001b[38;5;124mprefer\u001b[39m\u001b[38;5;124m\"\u001b[39m: \u001b[38;5;124m\"\u001b[39m\u001b[38;5;124mthreads\u001b[39m\u001b[38;5;124m\"\u001b[39m}\n\u001b[1;32m--> 776\u001b[0m     chunked_results \u001b[38;5;241m=\u001b[39m \u001b[43mParallel\u001b[49m\u001b[43m(\u001b[49m\u001b[43mn_jobs\u001b[49m\u001b[43m,\u001b[49m\u001b[43m \u001b[49m\u001b[38;5;241;43m*\u001b[39;49m\u001b[38;5;241;43m*\u001b[39;49m\u001b[43mparallel_kwargs\u001b[49m\u001b[43m)\u001b[49m\u001b[43m(\u001b[49m\n\u001b[0;32m    777\u001b[0m \u001b[43m        \u001b[49m\u001b[43mdelayed\u001b[49m\u001b[43m(\u001b[49m\u001b[43m_tree_query_parallel_helper\u001b[49m\u001b[43m)\u001b[49m\u001b[43m(\u001b[49m\n\u001b[0;32m    778\u001b[0m \u001b[43m            \u001b[49m\u001b[38;5;28;43mself\u001b[39;49m\u001b[38;5;241;43m.\u001b[39;49m\u001b[43m_tree\u001b[49m\u001b[43m,\u001b[49m\u001b[43m \u001b[49m\u001b[43mX\u001b[49m\u001b[43m[\u001b[49m\u001b[43ms\u001b[49m\u001b[43m]\u001b[49m\u001b[43m,\u001b[49m\u001b[43m \u001b[49m\u001b[43mn_neighbors\u001b[49m\u001b[43m,\u001b[49m\u001b[43m \u001b[49m\u001b[43mreturn_distance\u001b[49m\n\u001b[0;32m    779\u001b[0m \u001b[43m        \u001b[49m\u001b[43m)\u001b[49m\n\u001b[0;32m    780\u001b[0m \u001b[43m        \u001b[49m\u001b[38;5;28;43;01mfor\u001b[39;49;00m\u001b[43m \u001b[49m\u001b[43ms\u001b[49m\u001b[43m \u001b[49m\u001b[38;5;129;43;01min\u001b[39;49;00m\u001b[43m \u001b[49m\u001b[43mgen_even_slices\u001b[49m\u001b[43m(\u001b[49m\u001b[43mX\u001b[49m\u001b[38;5;241;43m.\u001b[39;49m\u001b[43mshape\u001b[49m\u001b[43m[\u001b[49m\u001b[38;5;241;43m0\u001b[39;49m\u001b[43m]\u001b[49m\u001b[43m,\u001b[49m\u001b[43m \u001b[49m\u001b[43mn_jobs\u001b[49m\u001b[43m)\u001b[49m\n\u001b[0;32m    781\u001b[0m \u001b[43m    \u001b[49m\u001b[43m)\u001b[49m\n\u001b[0;32m    782\u001b[0m \u001b[38;5;28;01melse\u001b[39;00m:\n\u001b[0;32m    783\u001b[0m     \u001b[38;5;28;01mraise\u001b[39;00m \u001b[38;5;167;01mValueError\u001b[39;00m(\u001b[38;5;124m\"\u001b[39m\u001b[38;5;124minternal: _fit_method not recognized\u001b[39m\u001b[38;5;124m\"\u001b[39m)\n",
      "File \u001b[1;32mC:\\ProgramData\\Anaconda3\\lib\\site-packages\\joblib\\parallel.py:1043\u001b[0m, in \u001b[0;36mParallel.__call__\u001b[1;34m(self, iterable)\u001b[0m\n\u001b[0;32m   1034\u001b[0m \u001b[38;5;28;01mtry\u001b[39;00m:\n\u001b[0;32m   1035\u001b[0m     \u001b[38;5;66;03m# Only set self._iterating to True if at least a batch\u001b[39;00m\n\u001b[0;32m   1036\u001b[0m     \u001b[38;5;66;03m# was dispatched. In particular this covers the edge\u001b[39;00m\n\u001b[1;32m   (...)\u001b[0m\n\u001b[0;32m   1040\u001b[0m     \u001b[38;5;66;03m# was very quick and its callback already dispatched all the\u001b[39;00m\n\u001b[0;32m   1041\u001b[0m     \u001b[38;5;66;03m# remaining jobs.\u001b[39;00m\n\u001b[0;32m   1042\u001b[0m     \u001b[38;5;28mself\u001b[39m\u001b[38;5;241m.\u001b[39m_iterating \u001b[38;5;241m=\u001b[39m \u001b[38;5;28;01mFalse\u001b[39;00m\n\u001b[1;32m-> 1043\u001b[0m     \u001b[38;5;28;01mif\u001b[39;00m \u001b[38;5;28;43mself\u001b[39;49m\u001b[38;5;241;43m.\u001b[39;49m\u001b[43mdispatch_one_batch\u001b[49m\u001b[43m(\u001b[49m\u001b[43miterator\u001b[49m\u001b[43m)\u001b[49m:\n\u001b[0;32m   1044\u001b[0m         \u001b[38;5;28mself\u001b[39m\u001b[38;5;241m.\u001b[39m_iterating \u001b[38;5;241m=\u001b[39m \u001b[38;5;28mself\u001b[39m\u001b[38;5;241m.\u001b[39m_original_iterator \u001b[38;5;129;01mis\u001b[39;00m \u001b[38;5;129;01mnot\u001b[39;00m \u001b[38;5;28;01mNone\u001b[39;00m\n\u001b[0;32m   1046\u001b[0m     \u001b[38;5;28;01mwhile\u001b[39;00m \u001b[38;5;28mself\u001b[39m\u001b[38;5;241m.\u001b[39mdispatch_one_batch(iterator):\n",
      "File \u001b[1;32mC:\\ProgramData\\Anaconda3\\lib\\site-packages\\joblib\\parallel.py:861\u001b[0m, in \u001b[0;36mParallel.dispatch_one_batch\u001b[1;34m(self, iterator)\u001b[0m\n\u001b[0;32m    859\u001b[0m     \u001b[38;5;28;01mreturn\u001b[39;00m \u001b[38;5;28;01mFalse\u001b[39;00m\n\u001b[0;32m    860\u001b[0m \u001b[38;5;28;01melse\u001b[39;00m:\n\u001b[1;32m--> 861\u001b[0m     \u001b[38;5;28;43mself\u001b[39;49m\u001b[38;5;241;43m.\u001b[39;49m\u001b[43m_dispatch\u001b[49m\u001b[43m(\u001b[49m\u001b[43mtasks\u001b[49m\u001b[43m)\u001b[49m\n\u001b[0;32m    862\u001b[0m     \u001b[38;5;28;01mreturn\u001b[39;00m \u001b[38;5;28;01mTrue\u001b[39;00m\n",
      "File \u001b[1;32mC:\\ProgramData\\Anaconda3\\lib\\site-packages\\joblib\\parallel.py:779\u001b[0m, in \u001b[0;36mParallel._dispatch\u001b[1;34m(self, batch)\u001b[0m\n\u001b[0;32m    777\u001b[0m \u001b[38;5;28;01mwith\u001b[39;00m \u001b[38;5;28mself\u001b[39m\u001b[38;5;241m.\u001b[39m_lock:\n\u001b[0;32m    778\u001b[0m     job_idx \u001b[38;5;241m=\u001b[39m \u001b[38;5;28mlen\u001b[39m(\u001b[38;5;28mself\u001b[39m\u001b[38;5;241m.\u001b[39m_jobs)\n\u001b[1;32m--> 779\u001b[0m     job \u001b[38;5;241m=\u001b[39m \u001b[38;5;28;43mself\u001b[39;49m\u001b[38;5;241;43m.\u001b[39;49m\u001b[43m_backend\u001b[49m\u001b[38;5;241;43m.\u001b[39;49m\u001b[43mapply_async\u001b[49m\u001b[43m(\u001b[49m\u001b[43mbatch\u001b[49m\u001b[43m,\u001b[49m\u001b[43m \u001b[49m\u001b[43mcallback\u001b[49m\u001b[38;5;241;43m=\u001b[39;49m\u001b[43mcb\u001b[49m\u001b[43m)\u001b[49m\n\u001b[0;32m    780\u001b[0m     \u001b[38;5;66;03m# A job can complete so quickly than its callback is\u001b[39;00m\n\u001b[0;32m    781\u001b[0m     \u001b[38;5;66;03m# called before we get here, causing self._jobs to\u001b[39;00m\n\u001b[0;32m    782\u001b[0m     \u001b[38;5;66;03m# grow. To ensure correct results ordering, .insert is\u001b[39;00m\n\u001b[0;32m    783\u001b[0m     \u001b[38;5;66;03m# used (rather than .append) in the following line\u001b[39;00m\n\u001b[0;32m    784\u001b[0m     \u001b[38;5;28mself\u001b[39m\u001b[38;5;241m.\u001b[39m_jobs\u001b[38;5;241m.\u001b[39minsert(job_idx, job)\n",
      "File \u001b[1;32mC:\\ProgramData\\Anaconda3\\lib\\site-packages\\joblib\\_parallel_backends.py:208\u001b[0m, in \u001b[0;36mSequentialBackend.apply_async\u001b[1;34m(self, func, callback)\u001b[0m\n\u001b[0;32m    206\u001b[0m \u001b[38;5;28;01mdef\u001b[39;00m \u001b[38;5;21mapply_async\u001b[39m(\u001b[38;5;28mself\u001b[39m, func, callback\u001b[38;5;241m=\u001b[39m\u001b[38;5;28;01mNone\u001b[39;00m):\n\u001b[0;32m    207\u001b[0m     \u001b[38;5;124;03m\"\"\"Schedule a func to be run\"\"\"\u001b[39;00m\n\u001b[1;32m--> 208\u001b[0m     result \u001b[38;5;241m=\u001b[39m \u001b[43mImmediateResult\u001b[49m\u001b[43m(\u001b[49m\u001b[43mfunc\u001b[49m\u001b[43m)\u001b[49m\n\u001b[0;32m    209\u001b[0m     \u001b[38;5;28;01mif\u001b[39;00m callback:\n\u001b[0;32m    210\u001b[0m         callback(result)\n",
      "File \u001b[1;32mC:\\ProgramData\\Anaconda3\\lib\\site-packages\\joblib\\_parallel_backends.py:572\u001b[0m, in \u001b[0;36mImmediateResult.__init__\u001b[1;34m(self, batch)\u001b[0m\n\u001b[0;32m    569\u001b[0m \u001b[38;5;28;01mdef\u001b[39;00m \u001b[38;5;21m__init__\u001b[39m(\u001b[38;5;28mself\u001b[39m, batch):\n\u001b[0;32m    570\u001b[0m     \u001b[38;5;66;03m# Don't delay the application, to avoid keeping the input\u001b[39;00m\n\u001b[0;32m    571\u001b[0m     \u001b[38;5;66;03m# arguments in memory\u001b[39;00m\n\u001b[1;32m--> 572\u001b[0m     \u001b[38;5;28mself\u001b[39m\u001b[38;5;241m.\u001b[39mresults \u001b[38;5;241m=\u001b[39m \u001b[43mbatch\u001b[49m\u001b[43m(\u001b[49m\u001b[43m)\u001b[49m\n",
      "File \u001b[1;32mC:\\ProgramData\\Anaconda3\\lib\\site-packages\\joblib\\parallel.py:262\u001b[0m, in \u001b[0;36mBatchedCalls.__call__\u001b[1;34m(self)\u001b[0m\n\u001b[0;32m    258\u001b[0m \u001b[38;5;28;01mdef\u001b[39;00m \u001b[38;5;21m__call__\u001b[39m(\u001b[38;5;28mself\u001b[39m):\n\u001b[0;32m    259\u001b[0m     \u001b[38;5;66;03m# Set the default nested backend to self._backend but do not set the\u001b[39;00m\n\u001b[0;32m    260\u001b[0m     \u001b[38;5;66;03m# change the default number of processes to -1\u001b[39;00m\n\u001b[0;32m    261\u001b[0m     \u001b[38;5;28;01mwith\u001b[39;00m parallel_backend(\u001b[38;5;28mself\u001b[39m\u001b[38;5;241m.\u001b[39m_backend, n_jobs\u001b[38;5;241m=\u001b[39m\u001b[38;5;28mself\u001b[39m\u001b[38;5;241m.\u001b[39m_n_jobs):\n\u001b[1;32m--> 262\u001b[0m         \u001b[38;5;28;01mreturn\u001b[39;00m [func(\u001b[38;5;241m*\u001b[39margs, \u001b[38;5;241m*\u001b[39m\u001b[38;5;241m*\u001b[39mkwargs)\n\u001b[0;32m    263\u001b[0m                 \u001b[38;5;28;01mfor\u001b[39;00m func, args, kwargs \u001b[38;5;129;01min\u001b[39;00m \u001b[38;5;28mself\u001b[39m\u001b[38;5;241m.\u001b[39mitems]\n",
      "File \u001b[1;32mC:\\ProgramData\\Anaconda3\\lib\\site-packages\\joblib\\parallel.py:262\u001b[0m, in \u001b[0;36m<listcomp>\u001b[1;34m(.0)\u001b[0m\n\u001b[0;32m    258\u001b[0m \u001b[38;5;28;01mdef\u001b[39;00m \u001b[38;5;21m__call__\u001b[39m(\u001b[38;5;28mself\u001b[39m):\n\u001b[0;32m    259\u001b[0m     \u001b[38;5;66;03m# Set the default nested backend to self._backend but do not set the\u001b[39;00m\n\u001b[0;32m    260\u001b[0m     \u001b[38;5;66;03m# change the default number of processes to -1\u001b[39;00m\n\u001b[0;32m    261\u001b[0m     \u001b[38;5;28;01mwith\u001b[39;00m parallel_backend(\u001b[38;5;28mself\u001b[39m\u001b[38;5;241m.\u001b[39m_backend, n_jobs\u001b[38;5;241m=\u001b[39m\u001b[38;5;28mself\u001b[39m\u001b[38;5;241m.\u001b[39m_n_jobs):\n\u001b[1;32m--> 262\u001b[0m         \u001b[38;5;28;01mreturn\u001b[39;00m [func(\u001b[38;5;241m*\u001b[39margs, \u001b[38;5;241m*\u001b[39m\u001b[38;5;241m*\u001b[39mkwargs)\n\u001b[0;32m    263\u001b[0m                 \u001b[38;5;28;01mfor\u001b[39;00m func, args, kwargs \u001b[38;5;129;01min\u001b[39;00m \u001b[38;5;28mself\u001b[39m\u001b[38;5;241m.\u001b[39mitems]\n",
      "File \u001b[1;32mC:\\ProgramData\\Anaconda3\\lib\\site-packages\\sklearn\\utils\\fixes.py:216\u001b[0m, in \u001b[0;36m_FuncWrapper.__call__\u001b[1;34m(self, *args, **kwargs)\u001b[0m\n\u001b[0;32m    214\u001b[0m \u001b[38;5;28;01mdef\u001b[39;00m \u001b[38;5;21m__call__\u001b[39m(\u001b[38;5;28mself\u001b[39m, \u001b[38;5;241m*\u001b[39margs, \u001b[38;5;241m*\u001b[39m\u001b[38;5;241m*\u001b[39mkwargs):\n\u001b[0;32m    215\u001b[0m     \u001b[38;5;28;01mwith\u001b[39;00m config_context(\u001b[38;5;241m*\u001b[39m\u001b[38;5;241m*\u001b[39m\u001b[38;5;28mself\u001b[39m\u001b[38;5;241m.\u001b[39mconfig):\n\u001b[1;32m--> 216\u001b[0m         \u001b[38;5;28;01mreturn\u001b[39;00m \u001b[38;5;28mself\u001b[39m\u001b[38;5;241m.\u001b[39mfunction(\u001b[38;5;241m*\u001b[39margs, \u001b[38;5;241m*\u001b[39m\u001b[38;5;241m*\u001b[39mkwargs)\n",
      "File \u001b[1;32mC:\\ProgramData\\Anaconda3\\lib\\site-packages\\sklearn\\neighbors\\_base.py:600\u001b[0m, in \u001b[0;36m_tree_query_parallel_helper\u001b[1;34m(tree, *args, **kwargs)\u001b[0m\n\u001b[0;32m    594\u001b[0m \u001b[38;5;28;01mdef\u001b[39;00m \u001b[38;5;21m_tree_query_parallel_helper\u001b[39m(tree, \u001b[38;5;241m*\u001b[39margs, \u001b[38;5;241m*\u001b[39m\u001b[38;5;241m*\u001b[39mkwargs):\n\u001b[0;32m    595\u001b[0m     \u001b[38;5;124;03m\"\"\"Helper for the Parallel calls in KNeighborsMixin.kneighbors.\u001b[39;00m\n\u001b[0;32m    596\u001b[0m \n\u001b[0;32m    597\u001b[0m \u001b[38;5;124;03m    The Cython method tree.query is not directly picklable by cloudpickle\u001b[39;00m\n\u001b[0;32m    598\u001b[0m \u001b[38;5;124;03m    under PyPy.\u001b[39;00m\n\u001b[0;32m    599\u001b[0m \u001b[38;5;124;03m    \"\"\"\u001b[39;00m\n\u001b[1;32m--> 600\u001b[0m     \u001b[38;5;28;01mreturn\u001b[39;00m tree\u001b[38;5;241m.\u001b[39mquery(\u001b[38;5;241m*\u001b[39margs, \u001b[38;5;241m*\u001b[39m\u001b[38;5;241m*\u001b[39mkwargs)\n",
      "\u001b[1;31mKeyboardInterrupt\u001b[0m: "
     ]
    }
   ],
   "source": [
    "'''\n",
    "Finding the optimal value for K\n",
    "Generally is N where N^2 = number of samples\n",
    "so would be k = sqrt(37065) -> 192.52\n",
    "Below we are calculating the error rate for each value of K and then plotting it on a graph\n",
    "Code from https://gist.github.com/Amey23/656c1f1fb76308aee0e9102db78e6816\n",
    "It creates an error rate vs K value graph for KNeighbours\n",
    "'''\n",
    "\n",
    "error_rate = []\n",
    "for i in range(1,200):\n",
    " knn = KNeighborsClassifier(n_neighbors=i)\n",
    " knn.fit(X_train,y_train)\n",
    " pred_i = knn.predict(X_test)\n",
    " error_rate.append(np.mean(pred_i != y_test))\n",
    "\n",
    "plt.figure(figsize=(10,6))\n",
    "plt.plot(range(1,200),error_rate,color='blue', linestyle='dashed', \n",
    "         marker='o',markerfacecolor='red', markersize=10)\n",
    "plt.title('Error Rate vs. K Value')\n",
    "plt.xlabel('K')\n",
    "plt.ylabel('Error Rate')\n",
    "print(\"Minimum error:-\",min(error_rate),\"at K =\",error_rate.index(min(error_rate)))"
   ]
  },
  {
   "cell_type": "code",
   "execution_count": 25,
   "id": "7d4ff6f2",
   "metadata": {},
   "outputs": [
    {
     "name": "stdout",
     "output_type": "stream",
     "text": [
      "Maximum accuracy:- 0.8447178159059027 at K = 25\n"
     ]
    },
    {
     "data": {
      "image/png": "[encoded data removed]",
      "text/plain": [
       "<Figure size 720x432 with 1 Axes>"
      ]
     },
     "metadata": {
      "needs_background": "light"
     },
     "output_type": "display_data"
    }
   ],
   "source": [
    "'''We can confirm this value of K further by doing accuracy tests from k=1 to k=200\n",
    "Code from https://gist.github.com/Amey23/eef79eec951bb889f40a5f0a662920c3#file-knn4-py\n",
    "It creates a accuracy vs K value graph for KNeighbours\n",
    "'''\n",
    "acc = []\n",
    "# Will take some time\n",
    "from sklearn import metrics\n",
    "for i in range(1,200):\n",
    "    neigh = KNeighborsClassifier(n_neighbors = i).fit(X_train,y_train)\n",
    "    yhat = neigh.predict(X_test)\n",
    "    acc.append(metrics.accuracy_score(y_test, yhat))\n",
    "    \n",
    "plt.figure(figsize=(10,6))\n",
    "plt.plot(range(1,200),acc,color = 'blue',linestyle='dashed', \n",
    "         marker='o',markerfacecolor='red', markersize=10)\n",
    "plt.title('accuracy vs. K Value')\n",
    "plt.xlabel('K')\n",
    "plt.ylabel('Accuracy')\n",
    "print(\"Maximum accuracy:-\",max(acc),\"at K =\",acc.index(max(acc)))"
   ]
  },
  {
   "cell_type": "code",
   "execution_count": null,
   "id": "cd6f108a",
   "metadata": {},
   "outputs": [],
   "source": []
  },
  {
   "cell_type": "code",
   "execution_count": 42,
   "id": "c729c8ce",
   "metadata": {},
   "outputs": [
    {
     "name": "stdout",
     "output_type": "stream",
     "text": [
      "\u001b[1mKNN Report \u001b[0m\n",
      "Accuracy:0.965\n",
      "              precision    recall  f1-score   support\n",
      "\n",
      "   edible(0)       0.95      0.97      0.96      6824\n",
      "poisonous(1)       0.97      0.96      0.97      8444\n",
      "\n",
      "    accuracy                           0.97     15268\n",
      "   macro avg       0.96      0.97      0.96     15268\n",
      "weighted avg       0.97      0.97      0.97     15268\n",
      "\n",
      "\u001b[1m Logistic Regression Report \u001b[0m\n",
      "Accuracy:0.618\n",
      "              precision    recall  f1-score   support\n",
      "\n",
      "   edible(0)       0.60      0.43      0.50      6824\n",
      "poisonous(1)       0.63      0.77      0.69      8444\n",
      "\n",
      "    accuracy                           0.62     15268\n",
      "   macro avg       0.61      0.60      0.60     15268\n",
      "weighted avg       0.62      0.62      0.61     15268\n",
      "\n"
     ]
    }
   ],
   "source": [
    "'''Next lets use a scaler to try and improve perfomace for both algorithms'''\n",
    "scaler = StandardScaler()\n",
    "X_scaled = scaler.fit_transform(X)\n",
    "\n",
    "X_train, X_test, y_train, y_test = train_test_split(X_scaled, y, test_size=0.25)\n",
    "kNeighbors = KNeighborsClassifier(n_neighbors=25, weights='uniform', algorithm='auto')\n",
    "\n",
    "s_kN_accuracy, s_kN_report = train_model(kNeighbors)#Start KNeigbour Training\n",
    "s_Log_accuracy, s_Log_report = train_model(LogisticRegression(max_iter=1000))\n",
    "\n",
    "print(\"\\033[1mKNN Report \\033[0m\")\n",
    "print(\"Accuracy:{}\\n{}\".format(s_kN_accuracy, s_kN_report))\n",
    "\n",
    "print(\"\\033[1m Logistic Regression Report \\033[0m\")\n",
    "print(\"Accuracy:{}\\n{}\".format(s_Log_accuracy, s_Log_report))\n",
    "\n",
    "\n"
   ]
  },
  {
   "cell_type": "code",
   "execution_count": 47,
   "id": "203bcb39",
   "metadata": {},
   "outputs": [
    {
     "name": "stdout",
     "output_type": "stream",
     "text": [
      "Scaling increased KNN from 0.965 to 0.965, thats a 0.0% increase\n",
      "Scaling increased LogisticRegression from 0.621 to 0.618, thats a -0.48309178743961395% increase\n"
     ]
    }
   ],
   "source": [
    "print(\"Scaling increased KNN from {} to {}, thats a {}% increase\".format(kN_accuracy,s_kN_accuracy, (s_kN_accuracy-kN_accuracy)/kN_accuracy*100))\n",
    "\n",
    "print(\"Scaling increased LogisticRegression from {} to {}, thats a {}% increase\".format(Log_accuracy,s_Log_accuracy, (s_Log_accuracy-Log_accuracy)/Log_accuracy*100))"
   ]
  },
  {
   "cell_type": "code",
   "execution_count": null,
   "id": "19c2105b",
   "metadata": {},
   "outputs": [],
   "source": []
  }
 ],
 "metadata": {
  "kernelspec": {
   "display_name": "Python 3 (ipykernel)",
   "language": "python",
   "name": "python3"
  },
  "language_info": {
   "codemirror_mode": {
    "name": "ipython",
    "version": 3
   },
   "file_extension": ".py",
   "mimetype": "text/x-python",
   "name": "python",
   "nbconvert_exporter": "python",
   "pygments_lexer": "ipython3",
   "version": "3.9.12"
  }
 },
 "nbformat": 4,
 "nbformat_minor": 5
}
