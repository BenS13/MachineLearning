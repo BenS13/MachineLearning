{
 "cells": [
  {
   "cell_type": "code",
   "execution_count": 258,
   "id": "04473d78",
   "metadata": {},
   "outputs": [],
   "source": [
    "import pandas as pd\n",
    "import numpy as np\n",
    "import time\n",
    "from sklearn import metrics, neighbors\n",
    "from sklearn.model_selection import train_test_split\n",
    "from sklearn.metrics import classification_report\n",
    "\n",
    "from sklearn.neighbors import KNeighborsClassifier\n",
    "\n",
    "from sklearn.linear_model import LogisticRegression\n",
    "\n",
    "import matplotlib.pyplot as plt"
   ]
  },
  {
   "cell_type": "code",
   "execution_count": 2,
   "id": "164deae3",
   "metadata": {},
   "outputs": [
    {
     "data": {
      "text/plain": [
       "'DATA SOURCE\\nhttps://www.kaggle.com/datasets/akshaydattatraykhare/diabetes-dataset\\n'"
      ]
     },
     "execution_count": 2,
     "metadata": {},
     "output_type": "execute_result"
    }
   ],
   "source": [
    "'''DATA SOURCE\n",
    "https://www.kaggle.com/datasets/akshaydattatraykhare/diabetes-dataset\n",
    "'''"
   ]
  },
  {
   "cell_type": "code",
   "execution_count": 3,
   "id": "dbcd0f5c",
   "metadata": {},
   "outputs": [
    {
     "data": {
      "text/plain": [
       "'\\nInformation about dataset attributes -\\n\\nPregnancies: To express the Number of pregnancies\\n\\nGlucose: To express the Glucose level in blood\\n\\nBloodPressure: To express the Blood pressure measurement\\n\\nSkinThickness: To express the thickness of the skin\\n\\nInsulin: To express the Insulin level in blood\\n\\nBMI: To express the Body mass index\\n\\nDiabetesPedigreeFunction: To express the Diabetes percentage\\n\\nAge: To express the age\\n\\nOutcome: To express the final result 1 is Yes and 0 is No\\n'"
      ]
     },
     "execution_count": 3,
     "metadata": {},
     "output_type": "execute_result"
    }
   ],
   "source": [
    "'''\n",
    "Information about dataset attributes -\n",
    "\n",
    "Pregnancies: To express the Number of pregnancies\n",
    "\n",
    "Glucose: To express the Glucose level in blood\n",
    "\n",
    "BloodPressure: To express the Blood pressure measurement\n",
    "\n",
    "SkinThickness: To express the thickness of the skin\n",
    "\n",
    "Insulin: To express the Insulin level in blood\n",
    "\n",
    "BMI: To express the Body mass index\n",
    "\n",
    "DiabetesPedigreeFunction: To express the Diabetes percentage\n",
    "\n",
    "Age: To express the age\n",
    "\n",
    "Outcome: To express the final result 1 is Yes and 0 is No\n",
    "'''"
   ]
  },
  {
   "cell_type": "code",
   "execution_count": 148,
   "id": "48e6ce85",
   "metadata": {},
   "outputs": [
    {
     "name": "stdout",
     "output_type": "stream",
     "text": [
      "     Pregnancies  Glucose  BloodPressure  SkinThickness  Insulin   BMI  \\\n",
      "0              6      148             72             35        0  33.6   \n",
      "1              1       85             66             29        0  26.6   \n",
      "2              8      183             64              0        0  23.3   \n",
      "3              1       89             66             23       94  28.1   \n",
      "4              0      137             40             35      168  43.1   \n",
      "..           ...      ...            ...            ...      ...   ...   \n",
      "763           10      101             76             48      180  32.9   \n",
      "764            2      122             70             27        0  36.8   \n",
      "765            5      121             72             23      112  26.2   \n",
      "766            1      126             60              0        0  30.1   \n",
      "767            1       93             70             31        0  30.4   \n",
      "\n",
      "     DiabetesPedigreeFunction  Age  Outcome  \n",
      "0                       0.627   50        1  \n",
      "1                       0.351   31        0  \n",
      "2                       0.672   32        1  \n",
      "3                       0.167   21        0  \n",
      "4                       2.288   33        1  \n",
      "..                        ...  ...      ...  \n",
      "763                     0.171   63        0  \n",
      "764                     0.340   27        0  \n",
      "765                     0.245   30        0  \n",
      "766                     0.349   47        1  \n",
      "767                     0.315   23        0  \n",
      "\n",
      "[768 rows x 9 columns]\n"
     ]
    }
   ],
   "source": [
    "'''First we will read the data using pandas and display the data'''\n",
    "data = pd.read_csv('diabetes.csv')\n",
    "print(data)"
   ]
  },
  {
   "cell_type": "code",
   "execution_count": 5,
   "id": "d5402a2a",
   "metadata": {},
   "outputs": [
    {
     "name": "stdout",
     "output_type": "stream",
     "text": [
      "     Age  Glucose  BloodPressure  SkinThickness  Insulin   BMI  \\\n",
      "0     50      148             72             35        0  33.6   \n",
      "1     31       85             66             29        0  26.6   \n",
      "2     32      183             64              0        0  23.3   \n",
      "3     21       89             66             23       94  28.1   \n",
      "4     33      137             40             35      168  43.1   \n",
      "..   ...      ...            ...            ...      ...   ...   \n",
      "763   63      101             76             48      180  32.9   \n",
      "764   27      122             70             27        0  36.8   \n",
      "765   30      121             72             23      112  26.2   \n",
      "766   47      126             60              0        0  30.1   \n",
      "767   23       93             70             31        0  30.4   \n",
      "\n",
      "     DiabetesPedigreeFunction  Pregnancies  Outcome  \n",
      "0                       0.627            6        1  \n",
      "1                       0.351            1        0  \n",
      "2                       0.672            8        1  \n",
      "3                       0.167            1        0  \n",
      "4                       2.288            0        1  \n",
      "..                        ...          ...      ...  \n",
      "763                     0.171           10        0  \n",
      "764                     0.340            2        0  \n",
      "765                     0.245            5        0  \n",
      "766                     0.349            1        1  \n",
      "767                     0.315            1        0  \n",
      "\n",
      "[768 rows x 9 columns]\n"
     ]
    }
   ],
   "source": [
    "'''Swap age and pregancies, clearer if the dataset starts with age'''\n",
    "'''Swap function from https://www.statology.org/swap-columns-pandas/'''\n",
    "def swap_columns(df, col1, col2):\n",
    "    col_list = list(df.columns)\n",
    "    x, y = col_list.index(col1), col_list.index(col2)\n",
    "    col_list[y], col_list[x] = col_list[x], col_list[y]\n",
    "    df = df[col_list]\n",
    "    return df\n",
    "\n",
    "data = swap_columns(data, 'Age', 'Pregnancies')\n",
    "print(data)"
   ]
  },
  {
   "cell_type": "code",
   "execution_count": 213,
   "id": "4bc508bf",
   "metadata": {},
   "outputs": [],
   "source": [
    "'''Assigning Atributes'''\n",
    "X = data[[\n",
    "    'Age',\n",
    "    'Glucose',\n",
    "    'BloodPressure',\n",
    "    'SkinThickness',\n",
    "    'Insulin',\n",
    "    'BMI',\n",
    "    'DiabetesPedigreeFunction',\n",
    "    'Pregnancies'\n",
    "]].values\n",
    "\n",
    "'''Removing pregnancies and DiabetesPedigreeFunction to see if it changes the outcome'''\n",
    "X_clean = data[[\n",
    "    'Age',\n",
    "    'Glucose',\n",
    "    'BloodPressure',\n",
    "    'SkinThickness',\n",
    "    'Insulin',\n",
    "    'BMI'\n",
    "]].values\n",
    "\n",
    "'''SET THE OUTCOME\n",
    "1 = Postive\n",
    "0 = Negative\n",
    "'''\n",
    "y = data[[\n",
    "    'Outcome'\n",
    "]]"
   ]
  },
  {
   "cell_type": "code",
   "execution_count": 214,
   "id": "2ba05e53",
   "metadata": {},
   "outputs": [],
   "source": [
    "X_Values = [X]#Atribrutes to use for training\n",
    "X_clean_values = [X_clean]#Cleaned attributes for training (removed Pregnancies)"
   ]
  },
  {
   "cell_type": "code",
   "execution_count": 215,
   "id": "3d4a87ed",
   "metadata": {},
   "outputs": [
    {
     "name": "stdout",
     "output_type": "stream",
     "text": [
      "Pregnancies                 0\n",
      "Glucose                     0\n",
      "BloodPressure               0\n",
      "SkinThickness               0\n",
      "Insulin                     0\n",
      "BMI                         0\n",
      "DiabetesPedigreeFunction    0\n",
      "Age                         0\n",
      "Outcome                     0\n",
      "dtype: int64\n"
     ]
    }
   ],
   "source": [
    "'''Check for null values'''\n",
    "print(data.isnull().sum())"
   ]
  },
  {
   "cell_type": "code",
   "execution_count": 63,
   "id": "02fe58cf",
   "metadata": {},
   "outputs": [],
   "source": [
    "#Appears there are no NULL values in this dataset"
   ]
  },
  {
   "cell_type": "code",
   "execution_count": 152,
   "id": "4f4ae192",
   "metadata": {},
   "outputs": [
    {
     "name": "stdout",
     "output_type": "stream",
     "text": [
      "<class 'pandas.core.frame.DataFrame'>\n",
      "RangeIndex: 768 entries, 0 to 767\n",
      "Data columns (total 9 columns):\n",
      " #   Column                    Non-Null Count  Dtype  \n",
      "---  ------                    --------------  -----  \n",
      " 0   Pregnancies               768 non-null    int64  \n",
      " 1   Glucose                   768 non-null    int64  \n",
      " 2   BloodPressure             768 non-null    int64  \n",
      " 3   SkinThickness             768 non-null    int64  \n",
      " 4   Insulin                   768 non-null    int64  \n",
      " 5   BMI                       768 non-null    float64\n",
      " 6   DiabetesPedigreeFunction  768 non-null    float64\n",
      " 7   Age                       768 non-null    int64  \n",
      " 8   Outcome                   768 non-null    int64  \n",
      "dtypes: float64(2), int64(7)\n",
      "memory usage: 54.1 KB\n",
      "None\n"
     ]
    }
   ],
   "source": [
    "'''Display information about the dataset'''\n",
    "print(data.info())#Get the information about the dataset"
   ]
  },
  {
   "cell_type": "code",
   "execution_count": 216,
   "id": "e008be62",
   "metadata": {},
   "outputs": [],
   "source": [
    "'''Make y(the outcomes) and 1D array'''\n",
    "y = np.ravel(y)"
   ]
  },
  {
   "cell_type": "code",
   "execution_count": 217,
   "id": "3ec79c69",
   "metadata": {},
   "outputs": [],
   "source": [
    "'''Train model with all X_values'''\n",
    "def train_model(model):#Function to train with selected model\n",
    "    #X_train, X_test, y_train, y_test = train_test_split(X, y, test_size=0.2)\n",
    "    #model = KNeighborsClassifier(n_neighbors=1)\n",
    "    model.fit(X_train, y_train)\n",
    "    prediction = model.predict(X_test)\n",
    "    return round(metrics.accuracy_score(y_test, prediction), 3), classification_report(y_test, prediction, target_names = ['Negative(0)', 'Positive(1)'])"
   ]
  },
  {
   "cell_type": "code",
   "execution_count": 218,
   "id": "3cf78dd9",
   "metadata": {},
   "outputs": [],
   "source": [
    "'''Function to compare accruacy of clean and unclean data'''\n",
    "def compare_data(clean_acc, unclean_acc):\n",
    "    pass\n",
    "    "
   ]
  },
  {
   "cell_type": "code",
   "execution_count": 91,
   "id": "48585e52",
   "metadata": {},
   "outputs": [],
   "source": [
    "##First I am going to use KNeighbors model on the dataset, I will then tune it to get the best accuracy"
   ]
  },
  {
   "cell_type": "code",
   "execution_count": 253,
   "id": "b24caf65",
   "metadata": {},
   "outputs": [],
   "source": [
    "'''Define the KNeighbours algoirthm'''\n",
    "'''We will say n_neighbors = 27 where n^2 = number of samples/rows'''\n",
    "kNeighbors = KNeighborsClassifier(n_neighbors=27)"
   ]
  },
  {
   "cell_type": "code",
   "execution_count": 263,
   "id": "d8683a0a",
   "metadata": {},
   "outputs": [],
   "source": [
    "'''Get accuraccy and report of KNeighbors with uncleaned data'''\n",
    "X_train, X_test, y_train, y_test = train_test_split(X, y, test_size=0.2)\n",
    "kN_accuracy, kN_report = train_model(kNeighbors)\n",
    "log_reg_acc, log_report = train_model(LogisticRegression(max_iter=1000))\n",
    "\n",
    "'''Get accuracy and report of KNeighbors with cleaned data'''\n",
    "X_train, X_test, y_train, y_test = train_test_split(X_clean, y, test_size=0.2)\n",
    "C_kN_accuracy, C_kN_report = train_model(kNeighbors)\n",
    "C_log_reg_acc, C_log_report = train_model(LogisticRegression(max_iter=1000))\n",
    "\n",
    "\n"
   ]
  },
  {
   "cell_type": "code",
   "execution_count": 264,
   "id": "9346dea2",
   "metadata": {},
   "outputs": [
    {
     "name": "stdout",
     "output_type": "stream",
     "text": [
      "KNeighbors\n",
      "Uncleaned Data\n",
      "Accuracy:0.773\n",
      "              precision    recall  f1-score   support\n",
      "\n",
      " Negative(0)       0.77      0.92      0.84        98\n",
      " Positive(1)       0.78      0.52      0.62        56\n",
      "\n",
      "    accuracy                           0.77       154\n",
      "   macro avg       0.78      0.72      0.73       154\n",
      "weighted avg       0.77      0.77      0.76       154\n",
      "\n",
      "Cleaned Data\n",
      "Accuracy:0.721\n",
      "              precision    recall  f1-score   support\n",
      "\n",
      " Negative(0)       0.73      0.89      0.80        97\n",
      " Positive(1)       0.69      0.44      0.54        57\n",
      "\n",
      "    accuracy                           0.72       154\n",
      "   macro avg       0.71      0.66      0.67       154\n",
      "weighted avg       0.72      0.72      0.70       154\n",
      "\n",
      "Logistic Regression\n",
      "Uncleaned Data\n",
      "Accuracy:0.773\n",
      "              precision    recall  f1-score   support\n",
      "\n",
      " Negative(0)       0.78      0.91      0.84       102\n",
      " Positive(1)       0.74      0.50      0.60        52\n",
      "\n",
      "    accuracy                           0.77       154\n",
      "   macro avg       0.76      0.71      0.72       154\n",
      "weighted avg       0.77      0.77      0.76       154\n",
      "\n",
      "Cleaned Data\n",
      "Accuracy:0.773\n",
      "              precision    recall  f1-score   support\n",
      "\n",
      " Negative(0)       0.79      0.88      0.83        99\n",
      " Positive(1)       0.73      0.58      0.65        55\n",
      "\n",
      "    accuracy                           0.77       154\n",
      "   macro avg       0.76      0.73      0.74       154\n",
      "weighted avg       0.77      0.77      0.77       154\n",
      "\n"
     ]
    }
   ],
   "source": [
    "'''Display and compare accuracy reports from cleaned and uncleaned data'''\n",
    "'''Cleaned'''\n",
    "print(\"KNeighbors\")\n",
    "print(\"Uncleaned Data\")\n",
    "print(\"Accuracy:{}\\n{}\".format(kN_accuracy, kN_report))#Accuracy and report for KNeighbors unclean data\n",
    "print(\"Cleaned Data\")\n",
    "print(\"Accuracy:{}\\n{}\".format(C_kN_accuracy, C_kN_report))#Accuracy and rpeort for KNeighbours cleaned data\n",
    "\n",
    "print(\"Logistic Regression\")\n",
    "print(\"Uncleaned Data\")\n",
    "print(\"Accuracy:{}\\n{}\".format(linear_reg_acc, linear_report))#Accuracy and report for KNeighbors unclean data\n",
    "print(\"Cleaned Data\")\n",
    "print(\"Accuracy:{}\\n{}\".format(C_linear_reg_acc, C_linear_report))#Accuracy and rpeort for KNeighbours cleaned data"
   ]
  },
  {
   "cell_type": "code",
   "execution_count": 99,
   "id": "b9c7c365",
   "metadata": {},
   "outputs": [],
   "source": [
    "#The accuracy keeps changing because train_test_split splits the dataset randomly\n",
    "#Therefore I am going to run KNeighbors n times and take an average"
   ]
  },
  {
   "cell_type": "code",
   "execution_count": 257,
   "id": "bd7ad140",
   "metadata": {},
   "outputs": [
    {
     "name": "stdout",
     "output_type": "stream",
     "text": [
      "KNeigbors Unclean Data Average Accuracy:0.74\n"
     ]
    }
   ],
   "source": [
    "'''Get average accuracy for KNeighbors with uncleaned data'''\n",
    "'''The number of repetitions can be increased to get more consitent results'''\n",
    "total = 0\n",
    "kNeighbors = KNeighborsClassifier(n_neighbors=27)#We will define again for clarity\n",
    "for i in range (100):\n",
    "    X_train, X_test, y_train, y_test = train_test_split(X, y, test_size=0.2)#Split the dataset\n",
    "    kN_accuracy, kN_report = train_model(kNeighbors)#Model with KNeighbors and uncleaned data\n",
    "    total+=kN_accuracy#Add each accuracy reading to total\n",
    "kN_average_unclean = total/100#Get average by dividing total by number of repetitions\n",
    "print(\"KNeigbors Unclean Data Average Accuracy:{}\".format(round(kN_average_unclean,3)))\n"
   ]
  },
  {
   "cell_type": "code",
   "execution_count": 256,
   "id": "8bc114cc",
   "metadata": {},
   "outputs": [
    {
     "name": "stdout",
     "output_type": "stream",
     "text": [
      "KNeigbors clean Data Average Accuracy:0.736\n"
     ]
    }
   ],
   "source": [
    "'''Get average accuracy for KNeighbors with cleaned data'''\n",
    "'''The number of repetitions can be increased to get more consitent results'''\n",
    "'''I am only redifining KNeighbors so the value of n_neighbors is clear'''\n",
    "total = 0\n",
    "kNeighbors = KNeighborsClassifier(n_neighbors=27)#We will define again for clarity\n",
    "for i in range (100):\n",
    "    X_train, X_test, y_train, y_test = train_test_split(X_clean, y, test_size=0.2)#Split the dataset\n",
    "    kN_accuracy, kN_report = train_model(kNeighbors)#Model with KNeighbors and cleaned data\n",
    "    total+=kN_accuracy#Add each accuracy reading to total\n",
    "kN_average_clean = total/100#Get average by dividing total by number of repetitions\n",
    "print(\"KNeigbors clean Data Average Accuracy:{}\".format(round(kN_average_clean,3)))\n"
   ]
  },
  {
   "cell_type": "code",
   "execution_count": null,
   "id": "f4e46744",
   "metadata": {},
   "outputs": [],
   "source": []
  }
 ],
 "metadata": {
  "kernelspec": {
   "display_name": "Python 3 (ipykernel)",
   "language": "python",
   "name": "python3"
  },
  "language_info": {
   "codemirror_mode": {
    "name": "ipython",
    "version": 3
   },
   "file_extension": ".py",
   "mimetype": "text/x-python",
   "name": "python",
   "nbconvert_exporter": "python",
   "pygments_lexer": "ipython3",
   "version": "3.9.12"
  }
 },
 "nbformat": 4,
 "nbformat_minor": 5
}
