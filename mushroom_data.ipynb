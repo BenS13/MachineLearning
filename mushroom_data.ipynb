{
 "cells": [
  {
   "cell_type": "code",
   "execution_count": 63,
   "id": "825e2604",
   "metadata": {},
   "outputs": [],
   "source": [
    "import pandas as pd\n",
    "import numpy as np\n",
    "import time\n",
    "from sklearn import metrics, neighbors\n",
    "from sklearn.model_selection import train_test_split, ShuffleSplit, cross_val_score\n",
    "from sklearn.metrics import classification_report, confusion_matrix, plot_confusion_matrix\n",
    "\n",
    "from sklearn.preprocessing import LabelEncoder, StandardScaler\n",
    "\n",
    "from sklearn.neighbors import KNeighborsClassifier\n",
    "\n",
    "from sklearn.linear_model import LogisticRegression\n",
    "\n",
    "import matplotlib.pyplot as plt\n"
   ]
  },
  {
   "cell_type": "code",
   "execution_count": 64,
   "id": "94d5dd7d",
   "metadata": {},
   "outputs": [
    {
     "data": {
      "text/plain": [
       "'DATA SOURCE\\nhttps://www.kaggle.com/datasets/devzohaib/mushroom-edibility-classification\\n'"
      ]
     },
     "execution_count": 64,
     "metadata": {},
     "output_type": "execute_result"
    }
   ],
   "source": [
    "'''DATA SOURCE\n",
    "https://www.kaggle.com/datasets/devzohaib/mushroom-edibility-classification\n",
    "'''"
   ]
  },
  {
   "cell_type": "code",
   "execution_count": 65,
   "id": "a21a7316",
   "metadata": {},
   "outputs": [
    {
     "data": {
      "text/plain": [
       "'\\n1.One binary class divided in edible=e and poisonous=p (with the latter one also containing mushrooms of unknown edibility).\\nTwenty remaining variables (n: nominal, m: metrical)\\n\\n2.cap-diameter (m): float number in cm\\n3.cap-shape (n): bell=b, conical=c, convex=x, flat=f,\\n4.sunken=s, spherical=p, others=o\\n5.cap-surface (n): fibrous=i, grooves=g, scaly=y, smooth=s,\\n6.shiny=h, leathery=l, silky=k, sticky=t,\\n7.wrinkled=w, fleshy=e\\n8.cap-color (n): brown=n, buff=b, gray=g, green=r, pink=p,\\n9.purple=u, red=e, white=w, yellow=y, blue=l,\\n10.orange=o, black=k\\n11.does-bruise-bleed (n): bruises-or-bleeding=t,no=f\\n12.gill-attachment (n): adnate=a, adnexed=x, decurrent=d, free=e,\\n13.sinuate=s, pores=p, none=f, unknown=?\\n14.gill-spacing (n): close=c, distant=d, none=f\\n15.gill-color (n): see cap-color + none=f\\n16.stem-height (m): float number in cm\\n'"
      ]
     },
     "execution_count": 65,
     "metadata": {},
     "output_type": "execute_result"
    }
   ],
   "source": [
    "'''\n",
    "1.One binary class divided in edible=e and poisonous=p (with the latter one also containing mushrooms of unknown edibility).\n",
    "Twenty remaining variables (n: nominal, m: metrical)\n",
    "\n",
    "2.cap-diameter (m): float number in cm\n",
    "3.cap-shape (n): bell=b, conical=c, convex=x, flat=f,\n",
    "4.sunken=s, spherical=p, others=o\n",
    "5.cap-surface (n): fibrous=i, grooves=g, scaly=y, smooth=s,\n",
    "6.shiny=h, leathery=l, silky=k, sticky=t,\n",
    "7.wrinkled=w, fleshy=e\n",
    "8.cap-color (n): brown=n, buff=b, gray=g, green=r, pink=p,\n",
    "9.purple=u, red=e, white=w, yellow=y, blue=l,\n",
    "10.orange=o, black=k\n",
    "11.does-bruise-bleed (n): bruises-or-bleeding=t,no=f\n",
    "12.gill-attachment (n): adnate=a, adnexed=x, decurrent=d, free=e,\n",
    "13.sinuate=s, pores=p, none=f, unknown=?\n",
    "14.gill-spacing (n): close=c, distant=d, none=f\n",
    "15.gill-color (n): see cap-color + none=f\n",
    "16.stem-height (m): float number in cm\n",
    "'''"
   ]
  },
  {
   "cell_type": "code",
   "execution_count": 66,
   "id": "00327e26",
   "metadata": {},
   "outputs": [
    {
     "name": "stdout",
     "output_type": "stream",
     "text": [
      "      class  cap-diameter cap-shape cap-surface cap-color  \\\n",
      "0         p         15.26         x           g         o   \n",
      "1         p         16.60         x           g         o   \n",
      "2         p         14.07         x           g         o   \n",
      "3         p         14.17         f           h         e   \n",
      "4         p         14.64         x           h         o   \n",
      "...     ...           ...       ...         ...       ...   \n",
      "61064     p          1.18         s           s         y   \n",
      "61065     p          1.27         f           s         y   \n",
      "61066     p          1.27         s           s         y   \n",
      "61067     p          1.24         f           s         y   \n",
      "61068     p          1.17         s           s         y   \n",
      "\n",
      "      does-bruise-or-bleed gill-attachment gill-spacing gill-color  \\\n",
      "0                        f               e          NaN          w   \n",
      "1                        f               e          NaN          w   \n",
      "2                        f               e          NaN          w   \n",
      "3                        f               e          NaN          w   \n",
      "4                        f               e          NaN          w   \n",
      "...                    ...             ...          ...        ...   \n",
      "61064                    f               f            f          f   \n",
      "61065                    f               f            f          f   \n",
      "61066                    f               f            f          f   \n",
      "61067                    f               f            f          f   \n",
      "61068                    f               f            f          f   \n",
      "\n",
      "       stem-height  ...  stem-root stem-surface stem-color veil-type  \\\n",
      "0            16.95  ...          s            y          w         u   \n",
      "1            17.99  ...          s            y          w         u   \n",
      "2            17.80  ...          s            y          w         u   \n",
      "3            15.77  ...          s            y          w         u   \n",
      "4            16.53  ...          s            y          w         u   \n",
      "...            ...  ...        ...          ...        ...       ...   \n",
      "61064         3.93  ...        NaN          NaN          y       NaN   \n",
      "61065         3.18  ...        NaN          NaN          y       NaN   \n",
      "61066         3.86  ...        NaN          NaN          y       NaN   \n",
      "61067         3.56  ...        NaN          NaN          y       NaN   \n",
      "61068         3.25  ...        NaN          NaN          y       NaN   \n",
      "\n",
      "      veil-color has-ring ring-type spore-print-color habitat season  \n",
      "0              w        t         g               NaN       d      w  \n",
      "1              w        t         g               NaN       d      u  \n",
      "2              w        t         g               NaN       d      w  \n",
      "3              w        t         p               NaN       d      w  \n",
      "4              w        t         p               NaN       d      w  \n",
      "...          ...      ...       ...               ...     ...    ...  \n",
      "61064        NaN        f         f               NaN       d      a  \n",
      "61065        NaN        f         f               NaN       d      a  \n",
      "61066        NaN        f         f               NaN       d      u  \n",
      "61067        NaN        f         f               NaN       d      u  \n",
      "61068        NaN        f         f               NaN       d      u  \n",
      "\n",
      "[61069 rows x 21 columns]\n"
     ]
    }
   ],
   "source": [
    "data = pd.read_csv('secondary_data.csv',delimiter=';')\n",
    "print(data)"
   ]
  },
  {
   "cell_type": "code",
   "execution_count": 67,
   "id": "e5341ad8",
   "metadata": {},
   "outputs": [
    {
     "name": "stdout",
     "output_type": "stream",
     "text": [
      "class                       0\n",
      "cap-diameter                0\n",
      "cap-shape                   0\n",
      "cap-surface             14120\n",
      "cap-color                   0\n",
      "does-bruise-or-bleed        0\n",
      "gill-attachment          9884\n",
      "gill-spacing            25063\n",
      "gill-color                  0\n",
      "stem-height                 0\n",
      "stem-width                  0\n",
      "stem-root               51538\n",
      "stem-surface            38124\n",
      "stem-color                  0\n",
      "veil-type               57892\n",
      "veil-color              53656\n",
      "has-ring                    0\n",
      "ring-type                2471\n",
      "spore-print-color       54715\n",
      "habitat                     0\n",
      "season                      0\n",
      "dtype: int64\n"
     ]
    }
   ],
   "source": [
    "'''Check for null values'''\n",
    "print(data.isnull().sum())"
   ]
  },
  {
   "cell_type": "code",
   "execution_count": 68,
   "id": "201bdcd4",
   "metadata": {},
   "outputs": [
    {
     "name": "stdout",
     "output_type": "stream",
     "text": [
      "class                       0\n",
      "cap-diameter                0\n",
      "cap-shape                   0\n",
      "cap-surface             14120\n",
      "cap-color                   0\n",
      "does-bruise-or-bleed        0\n",
      "gill-attachment          9884\n",
      "gill-color                  0\n",
      "stem-height                 0\n",
      "stem-width                  0\n",
      "stem-color                  0\n",
      "has-ring                    0\n",
      "ring-type                2471\n",
      "habitat                     0\n",
      "season                      0\n",
      "dtype: int64\n"
     ]
    }
   ],
   "source": [
    "'''Some columns are completley NaN values so ,Removing colums where amount of NULL is near amount of samples'''\n",
    "data = data.drop('spore-print-color', axis=1)\n",
    "data = data.drop('veil-color', axis=1)\n",
    "data = data.drop('veil-type', axis=1)\n",
    "data = data.drop('stem-surface', axis=1)\n",
    "data = data.drop('stem-root', axis=1)\n",
    "data = data.drop('gill-spacing', axis=1)\n",
    "print(data.isnull().sum())"
   ]
  },
  {
   "cell_type": "code",
   "execution_count": 69,
   "id": "052be6d6",
   "metadata": {},
   "outputs": [
    {
     "name": "stdout",
     "output_type": "stream",
     "text": [
      "class                   0\n",
      "cap-diameter            0\n",
      "cap-shape               0\n",
      "cap-surface             0\n",
      "cap-color               0\n",
      "does-bruise-or-bleed    0\n",
      "gill-attachment         0\n",
      "gill-color              0\n",
      "stem-height             0\n",
      "stem-width              0\n",
      "stem-color              0\n",
      "has-ring                0\n",
      "ring-type               0\n",
      "habitat                 0\n",
      "season                  0\n",
      "dtype: int64\n",
      "      class  cap-diameter cap-shape cap-surface cap-color  \\\n",
      "0         p         15.26         x           g         o   \n",
      "1         p         16.60         x           g         o   \n",
      "2         p         14.07         x           g         o   \n",
      "3         p         14.17         f           h         e   \n",
      "4         p         14.64         x           h         o   \n",
      "...     ...           ...       ...         ...       ...   \n",
      "61064     p          1.18         s           s         y   \n",
      "61065     p          1.27         f           s         y   \n",
      "61066     p          1.27         s           s         y   \n",
      "61067     p          1.24         f           s         y   \n",
      "61068     p          1.17         s           s         y   \n",
      "\n",
      "      does-bruise-or-bleed gill-attachment gill-color  stem-height  \\\n",
      "0                        f               e          w        16.95   \n",
      "1                        f               e          w        17.99   \n",
      "2                        f               e          w        17.80   \n",
      "3                        f               e          w        15.77   \n",
      "4                        f               e          w        16.53   \n",
      "...                    ...             ...        ...          ...   \n",
      "61064                    f               f          f         3.93   \n",
      "61065                    f               f          f         3.18   \n",
      "61066                    f               f          f         3.86   \n",
      "61067                    f               f          f         3.56   \n",
      "61068                    f               f          f         3.25   \n",
      "\n",
      "       stem-width stem-color has-ring ring-type habitat season  \n",
      "0           17.09          w        t         g       d      w  \n",
      "1           18.19          w        t         g       d      u  \n",
      "2           17.74          w        t         g       d      w  \n",
      "3           15.98          w        t         p       d      w  \n",
      "4           17.20          w        t         p       d      w  \n",
      "...           ...        ...      ...       ...     ...    ...  \n",
      "61064        6.22          y        f         f       d      a  \n",
      "61065        5.43          y        f         f       d      a  \n",
      "61066        6.37          y        f         f       d      u  \n",
      "61067        5.44          y        f         f       d      u  \n",
      "61068        5.45          y        f         f       d      u  \n",
      "\n",
      "[37065 rows x 15 columns]\n"
     ]
    }
   ],
   "source": [
    "'''Now we want to drop any rows that have NULL values'''\n",
    "data = data.dropna(how='any',axis=0)\n",
    "print(data.isnull().sum())\n",
    "print(data)"
   ]
  },
  {
   "cell_type": "code",
   "execution_count": 70,
   "id": "8b0b729a",
   "metadata": {},
   "outputs": [
    {
     "name": "stdout",
     "output_type": "stream",
     "text": [
      "<class 'pandas.core.frame.DataFrame'>\n",
      "Int64Index: 37065 entries, 0 to 61068\n",
      "Data columns (total 15 columns):\n",
      " #   Column                Non-Null Count  Dtype  \n",
      "---  ------                --------------  -----  \n",
      " 0   class                 37065 non-null  object \n",
      " 1   cap-diameter          37065 non-null  float64\n",
      " 2   cap-shape             37065 non-null  object \n",
      " 3   cap-surface           37065 non-null  object \n",
      " 4   cap-color             37065 non-null  object \n",
      " 5   does-bruise-or-bleed  37065 non-null  object \n",
      " 6   gill-attachment       37065 non-null  object \n",
      " 7   gill-color            37065 non-null  object \n",
      " 8   stem-height           37065 non-null  float64\n",
      " 9   stem-width            37065 non-null  float64\n",
      " 10  stem-color            37065 non-null  object \n",
      " 11  has-ring              37065 non-null  object \n",
      " 12  ring-type             37065 non-null  object \n",
      " 13  habitat               37065 non-null  object \n",
      " 14  season                37065 non-null  object \n",
      "dtypes: float64(3), object(12)\n",
      "memory usage: 4.5+ MB\n",
      "None\n"
     ]
    }
   ],
   "source": [
    "'''Display information about the dataset'''\n",
    "print(data.info())#Get the information about the dataset"
   ]
  },
  {
   "cell_type": "code",
   "execution_count": 71,
   "id": "c2e2094f",
   "metadata": {},
   "outputs": [],
   "source": [
    "#We need to re-define X with only the colums without null values\n",
    "X = data[[\n",
    "    'cap-diameter',\n",
    "    'cap-shape',\n",
    "    'cap-color',\n",
    "    'does-bruise-or-bleed',\n",
    "    'gill-color',\n",
    "    'stem-height',\n",
    "    'stem-width',\n",
    "    'stem-color',\n",
    "    'has-ring',\n",
    "    'habitat',\n",
    "    'season'\n",
    "]].values\n",
    "#print(X)\n",
    "\n",
    "#Redifine y here for clarity\n",
    "y = data [[\n",
    "    'class'\n",
    "]]\n",
    "#print(y['class'])"
   ]
  },
  {
   "cell_type": "code",
   "execution_count": 72,
   "id": "3308c806",
   "metadata": {},
   "outputs": [
    {
     "name": "stdout",
     "output_type": "stream",
     "text": [
      "p    20121\n",
      "e    16944\n",
      "Name: class, dtype: int64\n"
     ]
    },
    {
     "data": {
      "image/png": "[encoded data removed]",
      "text/plain": [
       "<Figure size 432x288 with 1 Axes>"
      ]
     },
     "metadata": {
      "needs_background": "light"
     },
     "output_type": "display_data"
    }
   ],
   "source": [
    "#scatter\n",
    "count = data['class'].value_counts()\n",
    "print(count)\n",
    "x_axis = ['Edible','Poisonous']\n",
    "y_axis = [count['e'],count['p']]\n",
    "plt.bar(x_axis,y_axis)\n",
    "plt.show()"
   ]
  },
  {
   "cell_type": "code",
   "execution_count": 73,
   "id": "acf3de94",
   "metadata": {},
   "outputs": [
    {
     "data": {
      "image/png": "[encoded data removed]",
      "text/plain": [
       "<Figure size 1152x576 with 2 Axes>"
      ]
     },
     "metadata": {
      "needs_background": "light"
     },
     "output_type": "display_data"
    }
   ],
   "source": [
    "import seaborn as sns\n",
    "correlation = data.corr(method='pearson')\n",
    "plt.figure(figsize=(16,8))\n",
    "cmap = sns.diverging_palette(230, 20, as_cmap=True)\n",
    "sns.heatmap(correlation, linecolor='yellow',cmap=cmap,linewidths=0.25, annot=True)\n",
    "plt.title('Heatmap Correlation', size=20, color='red')\n",
    "plt.show()   "
   ]
  },
  {
   "cell_type": "code",
   "execution_count": 74,
   "id": "440e5755",
   "metadata": {},
   "outputs": [
    {
     "name": "stdout",
     "output_type": "stream",
     "text": [
      "[[1471 6 6 ... 1 0 3]\n",
      " [1603 6 6 ... 1 0 2]\n",
      " [1352 6 6 ... 1 0 3]\n",
      " ...\n",
      " [73 5 11 ... 0 0 2]\n",
      " [70 2 11 ... 0 0 2]\n",
      " [63 5 11 ... 0 0 2]] [1 1 1 ... 1 1 1]\n"
     ]
    },
    {
     "name": "stderr",
     "output_type": "stream",
     "text": [
      "C:\\Users\\Ben\\AppData\\Local\\Temp\\ipykernel_4592\\1604521415.py:14: SettingWithCopyWarning: \n",
      "A value is trying to be set on a copy of a slice from a DataFrame.\n",
      "Try using .loc[row_indexer,col_indexer] = value instead\n",
      "\n",
      "See the caveats in the documentation: https://pandas.pydata.org/pandas-docs/stable/user_guide/indexing.html#returning-a-view-versus-a-copy\n",
      "  y['class'] = y['class'].map(label_mapping)\n"
     ]
    }
   ],
   "source": [
    "'''\n",
    "Convert class e,p to numbers 0,1\n",
    "Convert all other classifcations to numbers \n",
    "'''\n",
    "Le = LabelEncoder()#Convert all data in X to numbers so it can be used\n",
    "for i in range(len(X[0])):#Iterate over all instances in X\n",
    "    X[:, i] = Le.fit_transform(X[:, i])#Transform to number using fit_transform\n",
    "\n",
    "\n",
    "label_mapping = { #Create a dict for e(edible) and p(poisonous)\n",
    "    'e':0, #Assign 'e' as 0\n",
    "    'p':1 #Assign 'p' as 1\n",
    "}\n",
    "y['class'] = y['class'].map(label_mapping)\n",
    "y = np.array(y)#Make y an array\n",
    "y=np.ravel(y)#Make y a 1D array\n",
    "\n",
    "print(X,y)#Check to make sure transormations happened"
   ]
  },
  {
   "cell_type": "code",
   "execution_count": 83,
   "id": "28532381",
   "metadata": {},
   "outputs": [],
   "source": [
    "'''\n",
    "To start lets make n_neighbours = sqrt(number of samples)\n",
    "n_neighbours = sqrt(37065) = 192.52 -> 193\n",
    "and use the default parameters for weights and algorithm.\n",
    "'''\n",
    "kNeighbors = KNeighborsClassifier(n_neighbors=25, weights='uniform', algorithm='auto')"
   ]
  },
  {
   "cell_type": "code",
   "execution_count": 84,
   "id": "c04cb6d3",
   "metadata": {},
   "outputs": [],
   "source": [
    "'''Train model with all X_values'''\n",
    "def train_model(model):#Function to train with selected model\n",
    "    #X_train, X_test, y_train, y_test = train_test_split(X, y, test_size=0.2)\n",
    "    #model = KNeighborsClassifier(n_neighbors=1)\n",
    "    model.fit(X_train, y_train)\n",
    "    prediction = model.predict(X_test)\n",
    "    return round(metrics.accuracy_score(y_test, prediction), 3), classification_report(y_test, prediction, target_names = ['edible(0)', 'poisonous(1)'])"
   ]
  },
  {
   "cell_type": "code",
   "execution_count": 78,
   "id": "9d3508ea",
   "metadata": {},
   "outputs": [],
   "source": [
    "'''\n",
    "Split data for training and testing\n",
    "'''\n",
    "X_train, X_test, y_train, y_test = train_test_split(X, y, test_size=0.25)"
   ]
  },
  {
   "cell_type": "code",
   "execution_count": 85,
   "id": "49151a53",
   "metadata": {},
   "outputs": [],
   "source": [
    "\n",
    "\n",
    "kN_accuracy, kN_report = train_model(kNeighbors)#Start KNeigbour Training\n",
    "Log_accuracy, Log_report = train_model(LogisticRegression(max_iter=1000))\n",
    "\n",
    "#Start Log Regression training"
   ]
  },
  {
   "cell_type": "code",
   "execution_count": 86,
   "id": "f8154ba5",
   "metadata": {},
   "outputs": [
    {
     "name": "stdout",
     "output_type": "stream",
     "text": [
      "\u001b[1mKNN Report \u001b[0m\n",
      "Accuracy:0.842\n",
      "              precision    recall  f1-score   support\n",
      "\n",
      "   edible(0)       0.82      0.83      0.83      4188\n",
      "poisonous(1)       0.86      0.85      0.86      5079\n",
      "\n",
      "    accuracy                           0.84      9267\n",
      "   macro avg       0.84      0.84      0.84      9267\n",
      "weighted avg       0.84      0.84      0.84      9267\n",
      "\n",
      "\u001b[1m Logistic Regression Report \u001b[0m\n",
      "Accuracy:0.609\n",
      "              precision    recall  f1-score   support\n",
      "\n",
      "   edible(0)       0.59      0.45      0.51      4188\n",
      "poisonous(1)       0.62      0.74      0.67      5079\n",
      "\n",
      "    accuracy                           0.61      9267\n",
      "   macro avg       0.60      0.60      0.59      9267\n",
      "weighted avg       0.61      0.61      0.60      9267\n",
      "\n"
     ]
    }
   ],
   "source": [
    "print(\"\\033[1mKNN Report \\033[0m\")\n",
    "print(\"Accuracy:{}\\n{}\".format(kN_accuracy, kN_report))\n",
    "\n",
    "print(\"\\033[1m Logistic Regression Report \\033[0m\")\n",
    "print(\"Accuracy:{}\\n{}\".format(Log_accuracy, Log_report))"
   ]
  },
  {
   "cell_type": "code",
   "execution_count": 81,
   "id": "ae6adee1",
   "metadata": {},
   "outputs": [
    {
     "name": "stdout",
     "output_type": "stream",
     "text": [
      "Minimum error:- 0.15603755260602137 at K = 25\n"
     ]
    },
    {
     "data": {
      "image/png": "[encoded data removed]",
      "text/plain": [
       "<Figure size 720x432 with 1 Axes>"
      ]
     },
     "metadata": {
      "needs_background": "light"
     },
     "output_type": "display_data"
    }
   ],
   "source": [
    "'''\n",
    "Finding the optimal value for K\n",
    "Generally is N where N^2 = number of samples\n",
    "so would be k = sqrt(37065) -> 192.52\n",
    "Below we are calculating the error rate for each value of K and then plotting it on a graph\n",
    "Code from https://gist.github.com/Amey23/656c1f1fb76308aee0e9102db78e6816\n",
    "It creates an error rate vs K value graph for KNeighbours\n",
    "'''\n",
    "\n",
    "error_rate = []\n",
    "for i in range(1,200):\n",
    " knn = KNeighborsClassifier(n_neighbors=i)\n",
    " knn.fit(X_train,y_train)\n",
    " pred_i = knn.predict(X_test)\n",
    " error_rate.append(np.mean(pred_i != y_test))\n",
    "\n",
    "plt.figure(figsize=(10,6))\n",
    "plt.plot(range(1,200),error_rate,color='blue', linestyle='dashed', \n",
    "         marker='o',markerfacecolor='red', markersize=10)\n",
    "plt.title('Error Rate vs. K Value')\n",
    "plt.xlabel('K')\n",
    "plt.ylabel('Error Rate')\n",
    "print(\"Minimum error:-\",min(error_rate),\"at K =\",error_rate.index(min(error_rate)))"
   ]
  },
  {
   "cell_type": "code",
   "execution_count": 82,
   "id": "7d4ff6f2",
   "metadata": {
    "scrolled": true
   },
   "outputs": [
    {
     "name": "stdout",
     "output_type": "stream",
     "text": [
      "Maximum accuracy:- 0.8439624473939786 at K = 25\n"
     ]
    },
    {
     "data": {
      "image/png": "[encoded data removed]",
      "text/plain": [
       "<Figure size 720x432 with 1 Axes>"
      ]
     },
     "metadata": {
      "needs_background": "light"
     },
     "output_type": "display_data"
    }
   ],
   "source": [
    "'''We can confirm this value of K further by doing accuracy tests from k=1 to k=200\n",
    "Code from https://gist.github.com/Amey23/eef79eec951bb889f40a5f0a662920c3#file-knn4-py\n",
    "It creates a accuracy vs K value graph for KNeighbours\n",
    "'''\n",
    "acc = []\n",
    "# Will take some time\n",
    "from sklearn import metrics\n",
    "for i in range(1,200):\n",
    "    neigh = KNeighborsClassifier(n_neighbors = i).fit(X_train,y_train)\n",
    "    yhat = neigh.predict(X_test)\n",
    "    acc.append(metrics.accuracy_score(y_test, yhat))\n",
    "    \n",
    "plt.figure(figsize=(10,6))\n",
    "plt.plot(range(1,200),acc,color = 'blue',linestyle='dashed', \n",
    "         marker='o',markerfacecolor='red', markersize=10)\n",
    "plt.title('accuracy vs. K Value')\n",
    "plt.xlabel('K')\n",
    "plt.ylabel('Accuracy')\n",
    "print(\"Maximum accuracy:-\",max(acc),\"at K =\",acc.index(max(acc)))"
   ]
  },
  {
   "cell_type": "code",
   "execution_count": null,
   "id": "841194ba",
   "metadata": {},
   "outputs": [],
   "source": []
  },
  {
   "cell_type": "code",
   "execution_count": 87,
   "id": "c729c8ce",
   "metadata": {},
   "outputs": [
    {
     "name": "stdout",
     "output_type": "stream",
     "text": [
      "\u001b[1mKNN Report \u001b[0m\n",
      "Accuracy:0.957\n",
      "              precision    recall  f1-score   support\n",
      "\n",
      "   edible(0)       0.94      0.97      0.95      4210\n",
      "poisonous(1)       0.98      0.95      0.96      5057\n",
      "\n",
      "    accuracy                           0.96      9267\n",
      "   macro avg       0.96      0.96      0.96      9267\n",
      "weighted avg       0.96      0.96      0.96      9267\n",
      "\n",
      "\u001b[1m Logistic Regression Report \u001b[0m\n",
      "Accuracy:0.611\n",
      "              precision    recall  f1-score   support\n",
      "\n",
      "   edible(0)       0.59      0.47      0.52      4210\n",
      "poisonous(1)       0.62      0.73      0.67      5057\n",
      "\n",
      "    accuracy                           0.61      9267\n",
      "   macro avg       0.61      0.60      0.60      9267\n",
      "weighted avg       0.61      0.61      0.60      9267\n",
      "\n"
     ]
    }
   ],
   "source": [
    "'''Next lets use a scaler to try and improve perfomace for both algorithms'''\n",
    "scaler = StandardScaler()\n",
    "X_scaled = scaler.fit_transform(X)\n",
    "\n",
    "X_train, X_test, y_train, y_test = train_test_split(X_scaled, y, test_size=0.25)\n",
    "kNeighbors = KNeighborsClassifier(n_neighbors=37, weights='uniform', algorithm='auto')\n",
    "\n",
    "s_kN_accuracy, s_kN_report = train_model(kNeighbors)#Start KNeigbour Training\n",
    "s_Log_accuracy, s_Log_report = train_model(LogisticRegression(max_iter=1000))\n",
    "\n",
    "print(\"\\033[1mKNN Report \\033[0m\")\n",
    "print(\"Accuracy:{}\\n{}\".format(s_kN_accuracy, s_kN_report))\n",
    "\n",
    "print(\"\\033[1m Logistic Regression Report \\033[0m\")\n",
    "print(\"Accuracy:{}\\n{}\".format(s_Log_accuracy, s_Log_report))\n",
    "\n",
    "\n"
   ]
  },
  {
   "cell_type": "code",
   "execution_count": 88,
   "id": "e9c0f867",
   "metadata": {},
   "outputs": [
    {
     "name": "stdout",
     "output_type": "stream",
     "text": [
      "Scaling increased KNN from 0.842 to 0.957, thats a 13.65795724465558% increase\n",
      "Scaling increased LogisticRegression from 0.609 to 0.611, thats a 0.32840722495894936% increase\n"
     ]
    }
   ],
   "source": [
    "print(\"Scaling increased KNN from {} to {}, thats a {}% increase\".format(kN_accuracy,s_kN_accuracy, (s_kN_accuracy-kN_accuracy)/kN_accuracy*100))\n",
    "\n",
    "print(\"Scaling increased LogisticRegression from {} to {}, thats a {}% increase\".format(Log_accuracy,s_Log_accuracy, (s_Log_accuracy-Log_accuracy)/Log_accuracy*100))"
   ]
  },
  {
   "cell_type": "code",
   "execution_count": 89,
   "id": "23b76e90",
   "metadata": {},
   "outputs": [
    {
     "name": "stdout",
     "output_type": "stream",
     "text": [
      "Cross Validation Scores of scaled data:  [0.95764198 0.95953055 0.96209362 0.95683259 0.9631728  0.9631728\n",
      " 0.96182382 0.96033994 0.956293   0.96128423]\n",
      "Average Score of scaled data:  0.9602185350060705\n",
      "Max Score of scaled data:  0.9631728045325779\n"
     ]
    }
   ],
   "source": [
    "'''Cross Validation ShuffleSplit'''\n",
    "alg = KNeighborsClassifier(n_neighbors=37, weights='uniform', algorithm='auto')\n",
    "SS = ShuffleSplit(train_size=0.8, test_size=0.2, n_splits = 10)\n",
    "CVscores = cross_val_score(alg, X_scaled, y, cv = SS)\n",
    "\n",
    "print(\"Cross Validation Scores of scaled data: \", CVscores)\n",
    "print(\"Average Score of scaled data: \", CVscores.mean())\n",
    "print(\"Max Score of scaled data: \", CVscores.max())\n",
    "\n"
   ]
  },
  {
   "cell_type": "code",
   "execution_count": 55,
   "id": "d0e963a3",
   "metadata": {},
   "outputs": [
    {
     "name": "stderr",
     "output_type": "stream",
     "text": [
      "C:\\ProgramData\\Anaconda3\\lib\\site-packages\\sklearn\\utils\\deprecation.py:87: FutureWarning: Function plot_confusion_matrix is deprecated; Function `plot_confusion_matrix` is deprecated in 1.0 and will be removed in 1.2. Use one of the class methods: ConfusionMatrixDisplay.from_predictions or ConfusionMatrixDisplay.from_estimator.\n",
      "  warnings.warn(msg, category=FutureWarning)\n"
     ]
    },
    {
     "data": {
      "image/png": "[encoded data removed]",
      "text/plain": [
       "<Figure size 432x288 with 2 Axes>"
      ]
     },
     "metadata": {
      "needs_background": "light"
     },
     "output_type": "display_data"
    },
    {
     "data": {
      "text/plain": [
       "<Figure size 7200x7200 with 0 Axes>"
      ]
     },
     "metadata": {},
     "output_type": "display_data"
    }
   ],
   "source": [
    "'''Confusion Matrix'''\n",
    "kNeighbors = KNeighborsClassifier(n_neighbors=37, weights='uniform', algorithm='auto')\n",
    "kNeighbors.fit(X_train, y_train)\n",
    "y_prediction = kNeighbors.predict(X_test)\n",
    "confusion_matrix(y_test, y_prediction)\n",
    "graph = plot_confusion_matrix(kNeighbors, X_test, y_test, cmap=plt.cm.Blues)\n",
    "plt.show()"
   ]
  },
  {
   "cell_type": "code",
   "execution_count": null,
   "id": "6e662977",
   "metadata": {},
   "outputs": [],
   "source": []
  }
 ],
 "metadata": {
  "kernelspec": {
   "display_name": "Python 3 (ipykernel)",
   "language": "python",
   "name": "python3"
  },
  "language_info": {
   "codemirror_mode": {
    "name": "ipython",
    "version": 3
   },
   "file_extension": ".py",
   "mimetype": "text/x-python",
   "name": "python",
   "nbconvert_exporter": "python",
   "pygments_lexer": "ipython3",
   "version": "3.9.12"
  }
 },
 "nbformat": 4,
 "nbformat_minor": 5
}
